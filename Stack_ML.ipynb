{
 "cells": [
  {
   "cell_type": "code",
   "execution_count": 365,
   "metadata": {},
   "outputs": [],
   "source": [
    "from stackapi import StackAPI"
   ]
  },
  {
   "cell_type": "code",
   "execution_count": 366,
   "metadata": {},
   "outputs": [],
   "source": [
    "SITE = StackAPI('stackoverflow')"
   ]
  },
  {
   "cell_type": "markdown",
   "metadata": {},
   "source": [
    "# 2017"
   ]
  },
  {
   "cell_type": "code",
   "execution_count": 495,
   "metadata": {},
   "outputs": [],
   "source": [
    "SITE.page_size = 100\n",
    "SITE.max_pages = 200"
   ]
  },
  {
   "cell_type": "code",
   "execution_count": 496,
   "metadata": {},
   "outputs": [
    {
     "name": "stdout",
     "output_type": "stream",
     "text": [
      "timestamp = 1483207200.0\n"
     ]
    }
   ],
   "source": [
    "from datetime import datetime\n",
    "\n",
    "# current date and time\n",
    "now = datetime(2017, 1, 1, 0, 0)\n",
    "\n",
    "timestamp = datetime.timestamp(now)\n",
    "print(\"timestamp =\", timestamp)"
   ]
  },
  {
   "cell_type": "code",
   "execution_count": 497,
   "metadata": {},
   "outputs": [
    {
     "name": "stdout",
     "output_type": "stream",
     "text": [
      "timestamp = 1514656800.0\n"
     ]
    }
   ],
   "source": [
    "from datetime import datetime\n",
    "\n",
    "# current date and time\n",
    "now = datetime(2017, 12, 31, 0, 0)\n",
    "\n",
    "timestamp = datetime.timestamp(now)\n",
    "print(\"timestamp =\", timestamp)"
   ]
  },
  {
   "cell_type": "code",
   "execution_count": 498,
   "metadata": {},
   "outputs": [],
   "source": [
    "questions = SITE.fetch('questions', fromdate=1483207200, todate=1514656800,min=0,tagged='machine-learning', sort='votes', filter= 'withbody')"
   ]
  },
  {
   "cell_type": "code",
   "execution_count": 499,
   "metadata": {},
   "outputs": [
    {
     "data": {
      "text/plain": [
       "6208"
      ]
     },
     "execution_count": 499,
     "metadata": {},
     "output_type": "execute_result"
    }
   ],
   "source": [
    "len(questions['items'])"
   ]
  },
  {
   "cell_type": "code",
   "execution_count": 500,
   "metadata": {},
   "outputs": [],
   "source": [
    "questions_ml = SITE.fetch('questions', fromdate=1483207200, todate=1514656800,min=0,tagged='ml', sort='votes', filter= 'withbody')"
   ]
  },
  {
   "cell_type": "code",
   "execution_count": 501,
   "metadata": {},
   "outputs": [
    {
     "data": {
      "text/plain": [
       "60"
      ]
     },
     "execution_count": 501,
     "metadata": {},
     "output_type": "execute_result"
    }
   ],
   "source": [
    "len(questions_ml['items'])"
   ]
  },
  {
   "cell_type": "code",
   "execution_count": 502,
   "metadata": {},
   "outputs": [],
   "source": [
    "lb=[]\n",
    "import re\n",
    "\n",
    "def cleanhtml(raw_html):\n",
    "  cleanr = re.compile('<.*?>')\n",
    "  cleantext = re.sub(cleanr, '', raw_html)\n",
    "  return cleantext\n",
    "\n",
    "for i in range (6208):\n",
    "    #p=cleanhtml(str(questions['items'][i]['body']))\n",
    "    p=cleanhtml(questions['items'][i]['body'])\n",
    "    lb.append(p)"
   ]
  },
  {
   "cell_type": "code",
   "execution_count": 503,
   "metadata": {},
   "outputs": [],
   "source": [
    "lb_ml=[]\n",
    "import re\n",
    "\n",
    "def cleanhtml(raw_html):\n",
    "  cleanr = re.compile('<.*?>')\n",
    "  cleantext = re.sub(cleanr, '', raw_html)\n",
    "  return cleantext\n",
    "\n",
    "for i in range (60):\n",
    "    #p=cleanhtml(str(questions['items'][i]['body']))\n",
    "    p=cleanhtml(questions_ml['items'][i]['body'])\n",
    "    lb_ml.append(p)"
   ]
  },
  {
   "cell_type": "code",
   "execution_count": 504,
   "metadata": {},
   "outputs": [],
   "source": [
    "lta=[]\n",
    "import re\n",
    "\n",
    "def cleanhtml(raw_html):\n",
    "    cleantext = [k.replace('[', '').replace(']', '').replace(\"'\", '') for k in raw_html]\n",
    "    return cleantext\n",
    "\n",
    "for i in range (6208):\n",
    "    #p=cleanhtml(str(questions['items'][i]['tags']))\n",
    "    p=cleanhtml(questions['items'][i]['tags'])\n",
    "    lta.append(p)"
   ]
  },
  {
   "cell_type": "code",
   "execution_count": 505,
   "metadata": {},
   "outputs": [],
   "source": [
    "lta_ml=[]\n",
    "import re\n",
    "\n",
    "def cleanhtml(raw_html):\n",
    "    cleantext = [k.replace('[', '').replace(']', '').replace(\"'\", '') for k in raw_html]\n",
    "    return cleantext\n",
    "\n",
    "for i in range (60):\n",
    "    #p=cleanhtml(str(questions['items'][i]['tags']))\n",
    "    p=cleanhtml(questions_ml['items'][i]['tags'])\n",
    "    lta_ml.append(p)"
   ]
  },
  {
   "cell_type": "code",
   "execution_count": 506,
   "metadata": {},
   "outputs": [],
   "source": [
    "li3=[]\n",
    "#li4=[]\n",
    "#li5=[]\n",
    "for i in range (6208):\n",
    "    li3.append(questions['items'][i]['title'])\n",
    "    #li4.append(questions['items'][i]['body'])\n",
    "    #li5.append(questions['items'][i]['tags'])\n",
    "list_of_tuples = list(zip(li3, lb, lta))\n",
    "df_new_23= pd.DataFrame(list_of_tuples, columns = ['Title', 'Body', 'Tags'])"
   ]
  },
  {
   "cell_type": "code",
   "execution_count": 507,
   "metadata": {},
   "outputs": [],
   "source": [
    "li3_ml=[]\n",
    "#li4=[]\n",
    "#li5=[]\n",
    "for i in range (60):\n",
    "    li3_ml.append(questions_ml['items'][i]['title'])\n",
    "    #li4.append(questions['items'][i]['body'])\n",
    "    #li5.append(questions['items'][i]['tags'])\n",
    "list_of_tuples = list(zip(li3_ml, lb_ml, lta_ml))\n",
    "df_new_23_ml= pd.DataFrame(list_of_tuples, columns = ['Title', 'Body', 'Tags'])"
   ]
  },
  {
   "cell_type": "code",
   "execution_count": 508,
   "metadata": {},
   "outputs": [],
   "source": [
    "strings=df_ex\n",
    "ls=[]\n",
    "#print(strings)\n",
    "for i in range (6208):\n",
    "    #print(string)\n",
    "    l=len(df_new_23['Tags'][i])\n",
    "    flag=0\n",
    "    for j in range(l):\n",
    "        #print(str)\n",
    "        if \"mobile\" in df_new_23['Tags'][i][j]:\n",
    "            ls.append(1)\n",
    "            flag=1\n",
    "            break\n",
    "        if \"android\" in df_new_23['Tags'][i][j]:\n",
    "            ls.append(1)\n",
    "            flag=1\n",
    "            break\n",
    "        if \"windows\" in df_new_23['Tags'][i][j]:\n",
    "            ls.append(2)\n",
    "            flag=2\n",
    "            break\n",
    "        if \"windows-machine-learning\" in df_new_23['Tags'][i][j]:\n",
    "            ls.append(2)\n",
    "            flag=2\n",
    "            break\n",
    "        if \"linux\" in df_new_23['Tags'][i][j]:\n",
    "            ls.append(3)\n",
    "            flag=3\n",
    "            break\n",
    "        if \"ubuntu\" in df_new_23['Tags'][i][j]:\n",
    "            ls.append(4)\n",
    "            flag=4\n",
    "            break\n",
    "    if flag==0:\n",
    "        ls.append(0)"
   ]
  },
  {
   "cell_type": "code",
   "execution_count": 509,
   "metadata": {},
   "outputs": [],
   "source": [
    "strings=df_ex\n",
    "ls_ml=[]\n",
    "#print(strings)\n",
    "for i in range (60):\n",
    "    #print(string)\n",
    "    l=len(df_new_23_ml['Tags'][i])\n",
    "    flag=0\n",
    "    for j in range(l):\n",
    "        #print(str)\n",
    "        if \"mobile\" in df_new_23_ml['Tags'][i][j]:\n",
    "            ls_ml.append(1)\n",
    "            flag=1\n",
    "            break\n",
    "        if \"android\" in df_new_23_ml['Tags'][i][j]:\n",
    "            ls_ml.append(1)\n",
    "            flag=1\n",
    "            break\n",
    "        if \"windows\" in df_new_23_ml['Tags'][i][j]:\n",
    "            ls_ml.append(2)\n",
    "            flag=2\n",
    "            break\n",
    "        if \"windows-machine-learning\" in df_new_23_ml['Tags'][i][j]:\n",
    "            ls_ml.append(2)\n",
    "            flag=2\n",
    "            break\n",
    "        if \"linux\" in df_new_23_ml['Tags'][i][j]:\n",
    "            ls_ml.append(3)\n",
    "            flag=3\n",
    "            break\n",
    "        if \"ubuntu\" in df_new_23_ml['Tags'][i][j]:\n",
    "            ls_ml.append(4)\n",
    "            flag=4\n",
    "            break\n",
    "    if flag==0:\n",
    "        ls_ml.append(0)"
   ]
  },
  {
   "cell_type": "code",
   "execution_count": 510,
   "metadata": {},
   "outputs": [],
   "source": [
    "df_new_23['tag_up']=ls\n",
    "df_new_23_ml['tag_up']=ls_ml\n",
    "merge_2017=[df_new_23,df_new_23_ml]\n",
    "df_2017=pd.concat(merge_2017)\n",
    "df_2017.to_csv(\"2017.csv\")"
   ]
  },
  {
   "cell_type": "markdown",
   "metadata": {},
   "source": [
    "# 2018"
   ]
  },
  {
   "cell_type": "code",
   "execution_count": 511,
   "metadata": {},
   "outputs": [],
   "source": [
    "SITE.page_size = 100\n",
    "SITE.max_pages = 200"
   ]
  },
  {
   "cell_type": "code",
   "execution_count": 512,
   "metadata": {},
   "outputs": [
    {
     "name": "stdout",
     "output_type": "stream",
     "text": [
      "timestamp = 1514743200.0\n"
     ]
    }
   ],
   "source": [
    "from datetime import datetime\n",
    "\n",
    "# current date and time\n",
    "now = datetime(2018, 1, 1, 0, 0)\n",
    "\n",
    "timestamp = datetime.timestamp(now)\n",
    "print(\"timestamp =\", timestamp)"
   ]
  },
  {
   "cell_type": "code",
   "execution_count": 513,
   "metadata": {},
   "outputs": [
    {
     "name": "stdout",
     "output_type": "stream",
     "text": [
      "timestamp = 1546192800.0\n"
     ]
    }
   ],
   "source": [
    "from datetime import datetime\n",
    "\n",
    "# current date and time\n",
    "now = datetime(2018, 12, 31, 0, 0)\n",
    "\n",
    "timestamp = datetime.timestamp(now)\n",
    "print(\"timestamp =\", timestamp)"
   ]
  },
  {
   "cell_type": "code",
   "execution_count": 514,
   "metadata": {},
   "outputs": [],
   "source": [
    "questions = SITE.fetch('questions', fromdate=1514743200, todate=1546192800,min=0,tagged='machine-learning', sort='votes', filter= 'withbody')"
   ]
  },
  {
   "cell_type": "code",
   "execution_count": 515,
   "metadata": {},
   "outputs": [
    {
     "data": {
      "text/plain": [
       "6246"
      ]
     },
     "execution_count": 515,
     "metadata": {},
     "output_type": "execute_result"
    }
   ],
   "source": [
    "len(questions['items'])"
   ]
  },
  {
   "cell_type": "code",
   "execution_count": 516,
   "metadata": {},
   "outputs": [],
   "source": [
    "questions_ml = SITE.fetch('questions', fromdate=1514743200, todate=1546192800,min=0,tagged='ml', sort='votes', filter= 'withbody')"
   ]
  },
  {
   "cell_type": "code",
   "execution_count": 517,
   "metadata": {},
   "outputs": [
    {
     "data": {
      "text/plain": [
       "46"
      ]
     },
     "execution_count": 517,
     "metadata": {},
     "output_type": "execute_result"
    }
   ],
   "source": [
    "len(questions_ml['items'])"
   ]
  },
  {
   "cell_type": "code",
   "execution_count": 518,
   "metadata": {},
   "outputs": [],
   "source": [
    "lb=[]\n",
    "import re\n",
    "\n",
    "def cleanhtml(raw_html):\n",
    "  cleanr = re.compile('<.*?>')\n",
    "  cleantext = re.sub(cleanr, '', raw_html)\n",
    "  return cleantext\n",
    "\n",
    "for i in range (6246):\n",
    "    #p=cleanhtml(str(questions['items'][i]['body']))\n",
    "    p=cleanhtml(questions['items'][i]['body'])\n",
    "    lb.append(p)"
   ]
  },
  {
   "cell_type": "code",
   "execution_count": 519,
   "metadata": {},
   "outputs": [],
   "source": [
    "lb_ml=[]\n",
    "import re\n",
    "\n",
    "def cleanhtml(raw_html):\n",
    "  cleanr = re.compile('<.*?>')\n",
    "  cleantext = re.sub(cleanr, '', raw_html)\n",
    "  return cleantext\n",
    "\n",
    "for i in range (46):\n",
    "    #p=cleanhtml(str(questions['items'][i]['body']))\n",
    "    p=cleanhtml(questions_ml['items'][i]['body'])\n",
    "    lb_ml.append(p)"
   ]
  },
  {
   "cell_type": "code",
   "execution_count": 520,
   "metadata": {},
   "outputs": [],
   "source": [
    "lta=[]\n",
    "import re\n",
    "\n",
    "def cleanhtml(raw_html):\n",
    "    cleantext = [k.replace('[', '').replace(']', '').replace(\"'\", '') for k in raw_html]\n",
    "    return cleantext\n",
    "\n",
    "for i in range (6246):\n",
    "    #p=cleanhtml(str(questions['items'][i]['tags']))\n",
    "    p=cleanhtml(questions['items'][i]['tags'])\n",
    "    lta.append(p)"
   ]
  },
  {
   "cell_type": "code",
   "execution_count": 521,
   "metadata": {},
   "outputs": [],
   "source": [
    "lta_ml=[]\n",
    "import re\n",
    "\n",
    "def cleanhtml(raw_html):\n",
    "    cleantext = [k.replace('[', '').replace(']', '').replace(\"'\", '') for k in raw_html]\n",
    "    return cleantext\n",
    "\n",
    "for i in range (46):\n",
    "    #p=cleanhtml(str(questions['items'][i]['tags']))\n",
    "    p=cleanhtml(questions_ml['items'][i]['tags'])\n",
    "    lta_ml.append(p)"
   ]
  },
  {
   "cell_type": "code",
   "execution_count": 525,
   "metadata": {},
   "outputs": [],
   "source": [
    "li3=[]\n",
    "#li4=[]\n",
    "#li5=[]\n",
    "for i in range (6246):\n",
    "    li3.append(questions['items'][i]['title'])\n",
    "    #li4.append(questions['items'][i]['body'])\n",
    "    #li5.append(questions['items'][i]['tags'])\n",
    "list_of_tuples = list(zip(li3, lb, lta))\n",
    "df_new_23= pd.DataFrame(list_of_tuples, columns = ['Title', 'Body', 'Tags'])"
   ]
  },
  {
   "cell_type": "code",
   "execution_count": 526,
   "metadata": {},
   "outputs": [],
   "source": [
    "li3_ml=[]\n",
    "#li4=[]\n",
    "#li5=[]\n",
    "for i in range (46):\n",
    "    li3_ml.append(questions_ml['items'][i]['title'])\n",
    "    #li4.append(questions['items'][i]['body'])\n",
    "    #li5.append(questions['items'][i]['tags'])\n",
    "list_of_tuples = list(zip(li3_ml, lb_ml, lta_ml))\n",
    "df_new_23_ml= pd.DataFrame(list_of_tuples, columns = ['Title', 'Body', 'Tags'])"
   ]
  },
  {
   "cell_type": "code",
   "execution_count": 527,
   "metadata": {},
   "outputs": [],
   "source": [
    "strings=df_ex\n",
    "ls=[]\n",
    "#print(strings)\n",
    "for i in range (6246):\n",
    "    #print(string)\n",
    "    l=len(df_new_23['Tags'][i])\n",
    "    flag=0\n",
    "    for j in range(l):\n",
    "        #print(str)\n",
    "        if \"mobile\" in df_new_23['Tags'][i][j]:\n",
    "            ls.append(1)\n",
    "            flag=1\n",
    "            break\n",
    "        if \"android\" in df_new_23['Tags'][i][j]:\n",
    "            ls.append(1)\n",
    "            flag=1\n",
    "            break\n",
    "        if \"windows\" in df_new_23['Tags'][i][j]:\n",
    "            ls.append(2)\n",
    "            flag=2\n",
    "            break\n",
    "        if \"windows-machine-learning\" in df_new_23['Tags'][i][j]:\n",
    "            ls.append(2)\n",
    "            flag=2\n",
    "            break\n",
    "        if \"linux\" in df_new_23['Tags'][i][j]:\n",
    "            ls.append(3)\n",
    "            flag=3\n",
    "            break\n",
    "        if \"ubuntu\" in df_new_23['Tags'][i][j]:\n",
    "            ls.append(4)\n",
    "            flag=4\n",
    "            break\n",
    "    if flag==0:\n",
    "        ls.append(0)"
   ]
  },
  {
   "cell_type": "code",
   "execution_count": 528,
   "metadata": {},
   "outputs": [],
   "source": [
    "strings=df_ex\n",
    "ls_ml=[]\n",
    "#print(strings)\n",
    "for i in range (46):\n",
    "    #print(string)\n",
    "    l=len(df_new_23_ml['Tags'][i])\n",
    "    flag=0\n",
    "    for j in range(l):\n",
    "        #print(str)\n",
    "        if \"mobile\" in df_new_23_ml['Tags'][i][j]:\n",
    "            ls_ml.append(1)\n",
    "            flag=1\n",
    "            break\n",
    "        if \"android\" in df_new_23_ml['Tags'][i][j]:\n",
    "            ls_ml.append(1)\n",
    "            flag=1\n",
    "            break\n",
    "        if \"windows\" in df_new_23_ml['Tags'][i][j]:\n",
    "            ls_ml.append(2)\n",
    "            flag=2\n",
    "            break\n",
    "        if \"windows-machine-learning\" in df_new_23_ml['Tags'][i][j]:\n",
    "            ls_ml.append(2)\n",
    "            flag=2\n",
    "            break\n",
    "        if \"linux\" in df_new_23_ml['Tags'][i][j]:\n",
    "            ls_ml.append(3)\n",
    "            flag=3\n",
    "            break\n",
    "        if \"ubuntu\" in df_new_23_ml['Tags'][i][j]:\n",
    "            ls_ml.append(4)\n",
    "            flag=4\n",
    "            break\n",
    "    if flag==0:\n",
    "        ls_ml.append(0)"
   ]
  },
  {
   "cell_type": "code",
   "execution_count": 529,
   "metadata": {},
   "outputs": [],
   "source": [
    "df_new_23['tag_up']=ls\n",
    "df_new_23_ml['tag_up']=ls_ml\n",
    "merge_2018=[df_new_23,df_new_23_ml]\n",
    "df_2018=pd.concat(merge_2018)\n",
    "df_2018.to_csv(\"2018.csv\")"
   ]
  },
  {
   "cell_type": "markdown",
   "metadata": {},
   "source": [
    "# 2019"
   ]
  },
  {
   "cell_type": "code",
   "execution_count": 530,
   "metadata": {},
   "outputs": [],
   "source": [
    "SITE.page_size = 100\n",
    "SITE.max_pages = 200"
   ]
  },
  {
   "cell_type": "code",
   "execution_count": 531,
   "metadata": {},
   "outputs": [
    {
     "name": "stdout",
     "output_type": "stream",
     "text": [
      "timestamp = 1546279200.0\n"
     ]
    }
   ],
   "source": [
    "from datetime import datetime\n",
    "\n",
    "# current date and time\n",
    "now = datetime(2019, 1, 1, 0, 0)\n",
    "\n",
    "timestamp = datetime.timestamp(now)\n",
    "print(\"timestamp =\", timestamp)"
   ]
  },
  {
   "cell_type": "code",
   "execution_count": 532,
   "metadata": {},
   "outputs": [
    {
     "name": "stdout",
     "output_type": "stream",
     "text": [
      "timestamp = 1577728800.0\n"
     ]
    }
   ],
   "source": [
    "from datetime import datetime\n",
    "\n",
    "# current date and time\n",
    "now = datetime(2019, 12, 31, 0, 0)\n",
    "\n",
    "timestamp = datetime.timestamp(now)\n",
    "print(\"timestamp =\", timestamp)"
   ]
  },
  {
   "cell_type": "code",
   "execution_count": 534,
   "metadata": {},
   "outputs": [],
   "source": [
    "questions = SITE.fetch('questions', fromdate=1546279200, todate=1577728800,min=0,tagged='machine-learning', sort='votes', filter= 'withbody')"
   ]
  },
  {
   "cell_type": "code",
   "execution_count": 535,
   "metadata": {},
   "outputs": [
    {
     "data": {
      "text/plain": [
       "6689"
      ]
     },
     "execution_count": 535,
     "metadata": {},
     "output_type": "execute_result"
    }
   ],
   "source": [
    "len(questions['items'])"
   ]
  },
  {
   "cell_type": "code",
   "execution_count": 536,
   "metadata": {},
   "outputs": [],
   "source": [
    "questions_ml = SITE.fetch('questions', fromdate=1546279200, todate=1577728800,min=0,tagged='ml', sort='votes', filter= 'withbody')"
   ]
  },
  {
   "cell_type": "code",
   "execution_count": 537,
   "metadata": {},
   "outputs": [
    {
     "data": {
      "text/plain": [
       "26"
      ]
     },
     "execution_count": 537,
     "metadata": {},
     "output_type": "execute_result"
    }
   ],
   "source": [
    "len(questions_ml['items'])"
   ]
  },
  {
   "cell_type": "code",
   "execution_count": 538,
   "metadata": {},
   "outputs": [],
   "source": [
    "lb=[]\n",
    "import re\n",
    "\n",
    "def cleanhtml(raw_html):\n",
    "  cleanr = re.compile('<.*?>')\n",
    "  cleantext = re.sub(cleanr, '', raw_html)\n",
    "  return cleantext\n",
    "\n",
    "for i in range (6689):\n",
    "    #p=cleanhtml(str(questions['items'][i]['body']))\n",
    "    p=cleanhtml(questions['items'][i]['body'])\n",
    "    lb.append(p)"
   ]
  },
  {
   "cell_type": "code",
   "execution_count": 539,
   "metadata": {},
   "outputs": [],
   "source": [
    "lb_ml=[]\n",
    "import re\n",
    "\n",
    "def cleanhtml(raw_html):\n",
    "  cleanr = re.compile('<.*?>')\n",
    "  cleantext = re.sub(cleanr, '', raw_html)\n",
    "  return cleantext\n",
    "\n",
    "for i in range (26):\n",
    "    #p=cleanhtml(str(questions['items'][i]['body']))\n",
    "    p=cleanhtml(questions_ml['items'][i]['body'])\n",
    "    lb_ml.append(p)"
   ]
  },
  {
   "cell_type": "code",
   "execution_count": 540,
   "metadata": {},
   "outputs": [],
   "source": [
    "lta=[]\n",
    "import re\n",
    "\n",
    "def cleanhtml(raw_html):\n",
    "    cleantext = [k.replace('[', '').replace(']', '').replace(\"'\", '') for k in raw_html]\n",
    "    return cleantext\n",
    "\n",
    "for i in range (6689):\n",
    "    #p=cleanhtml(str(questions['items'][i]['tags']))\n",
    "    p=cleanhtml(questions['items'][i]['tags'])\n",
    "    lta.append(p)"
   ]
  },
  {
   "cell_type": "code",
   "execution_count": 541,
   "metadata": {},
   "outputs": [],
   "source": [
    "lta_ml=[]\n",
    "import re\n",
    "\n",
    "def cleanhtml(raw_html):\n",
    "    cleantext = [k.replace('[', '').replace(']', '').replace(\"'\", '') for k in raw_html]\n",
    "    return cleantext\n",
    "\n",
    "for i in range (26):\n",
    "    #p=cleanhtml(str(questions['items'][i]['tags']))\n",
    "    p=cleanhtml(questions_ml['items'][i]['tags'])\n",
    "    lta_ml.append(p)"
   ]
  },
  {
   "cell_type": "code",
   "execution_count": 542,
   "metadata": {},
   "outputs": [],
   "source": [
    "li3=[]\n",
    "#li4=[]\n",
    "#li5=[]\n",
    "for i in range (6689):\n",
    "    li3.append(questions['items'][i]['title'])\n",
    "    #li4.append(questions['items'][i]['body'])\n",
    "    #li5.append(questions['items'][i]['tags'])\n",
    "list_of_tuples = list(zip(li3, lb, lta))\n",
    "df_new_23= pd.DataFrame(list_of_tuples, columns = ['Title', 'Body', 'Tags'])"
   ]
  },
  {
   "cell_type": "code",
   "execution_count": 543,
   "metadata": {},
   "outputs": [],
   "source": [
    "li3_ml=[]\n",
    "#li4=[]\n",
    "#li5=[]\n",
    "for i in range (26):\n",
    "    li3_ml.append(questions_ml['items'][i]['title'])\n",
    "    #li4.append(questions['items'][i]['body'])\n",
    "    #li5.append(questions['items'][i]['tags'])\n",
    "list_of_tuples = list(zip(li3_ml, lb_ml, lta_ml))\n",
    "df_new_23_ml= pd.DataFrame(list_of_tuples, columns = ['Title', 'Body', 'Tags'])"
   ]
  },
  {
   "cell_type": "code",
   "execution_count": 544,
   "metadata": {},
   "outputs": [],
   "source": [
    "strings=df_ex\n",
    "ls=[]\n",
    "#print(strings)\n",
    "for i in range (6689):\n",
    "    #print(string)\n",
    "    l=len(df_new_23['Tags'][i])\n",
    "    flag=0\n",
    "    for j in range(l):\n",
    "        #print(str)\n",
    "        if \"mobile\" in df_new_23['Tags'][i][j]:\n",
    "            ls.append(1)\n",
    "            flag=1\n",
    "            break\n",
    "        if \"android\" in df_new_23['Tags'][i][j]:\n",
    "            ls.append(1)\n",
    "            flag=1\n",
    "            break\n",
    "        if \"windows\" in df_new_23['Tags'][i][j]:\n",
    "            ls.append(2)\n",
    "            flag=2\n",
    "            break\n",
    "        if \"windows-machine-learning\" in df_new_23['Tags'][i][j]:\n",
    "            ls.append(2)\n",
    "            flag=2\n",
    "            break\n",
    "        if \"linux\" in df_new_23['Tags'][i][j]:\n",
    "            ls.append(3)\n",
    "            flag=3\n",
    "            break\n",
    "        if \"ubuntu\" in df_new_23['Tags'][i][j]:\n",
    "            ls.append(4)\n",
    "            flag=4\n",
    "            break\n",
    "    if flag==0:\n",
    "        ls.append(0)"
   ]
  },
  {
   "cell_type": "code",
   "execution_count": 545,
   "metadata": {},
   "outputs": [],
   "source": [
    "strings=df_ex\n",
    "ls_ml=[]\n",
    "#print(strings)\n",
    "for i in range (26):\n",
    "    #print(string)\n",
    "    l=len(df_new_23_ml['Tags'][i])\n",
    "    flag=0\n",
    "    for j in range(l):\n",
    "        #print(str)\n",
    "        if \"mobile\" in df_new_23_ml['Tags'][i][j]:\n",
    "            ls_ml.append(1)\n",
    "            flag=1\n",
    "            break\n",
    "        if \"android\" in df_new_23_ml['Tags'][i][j]:\n",
    "            ls_ml.append(1)\n",
    "            flag=1\n",
    "            break\n",
    "        if \"windows\" in df_new_23_ml['Tags'][i][j]:\n",
    "            ls_ml.append(2)\n",
    "            flag=2\n",
    "            break\n",
    "        if \"windows-machine-learning\" in df_new_23_ml['Tags'][i][j]:\n",
    "            ls_ml.append(2)\n",
    "            flag=2\n",
    "            break\n",
    "        if \"linux\" in df_new_23_ml['Tags'][i][j]:\n",
    "            ls_ml.append(3)\n",
    "            flag=3\n",
    "            break\n",
    "        if \"ubuntu\" in df_new_23_ml['Tags'][i][j]:\n",
    "            ls_ml.append(4)\n",
    "            flag=4\n",
    "            break\n",
    "    if flag==0:\n",
    "        ls_ml.append(0)"
   ]
  },
  {
   "cell_type": "code",
   "execution_count": 546,
   "metadata": {},
   "outputs": [],
   "source": [
    "df_new_23['tag_up']=ls\n",
    "df_new_23_ml['tag_up']=ls_ml\n",
    "merge_2019=[df_new_23,df_new_23_ml]\n",
    "df_2019=pd.concat(merge_2019)\n",
    "df_2019.to_csv(\"2019.csv\")"
   ]
  },
  {
   "cell_type": "markdown",
   "metadata": {},
   "source": [
    "# 2020"
   ]
  },
  {
   "cell_type": "code",
   "execution_count": 475,
   "metadata": {},
   "outputs": [],
   "source": [
    "SITE.page_size = 100\n",
    "SITE.max_pages = 200"
   ]
  },
  {
   "cell_type": "code",
   "execution_count": 476,
   "metadata": {},
   "outputs": [
    {
     "name": "stdout",
     "output_type": "stream",
     "text": [
      "timestamp = 1577815200.0\n"
     ]
    }
   ],
   "source": [
    "from datetime import datetime\n",
    "\n",
    "# current date and time\n",
    "now = datetime(2020, 1, 1, 0, 0)\n",
    "\n",
    "timestamp = datetime.timestamp(now)\n",
    "print(\"timestamp =\", timestamp)"
   ]
  },
  {
   "cell_type": "code",
   "execution_count": 477,
   "metadata": {},
   "outputs": [
    {
     "name": "stdout",
     "output_type": "stream",
     "text": [
      "timestamp = 1603735200.0\n"
     ]
    }
   ],
   "source": [
    "from datetime import datetime\n",
    "\n",
    "# current date and time\n",
    "now = datetime(2020, 10, 27, 0, 0)\n",
    "\n",
    "timestamp = datetime.timestamp(now)\n",
    "print(\"timestamp =\", timestamp)"
   ]
  },
  {
   "cell_type": "code",
   "execution_count": 478,
   "metadata": {},
   "outputs": [],
   "source": [
    "questions = SITE.fetch('questions', fromdate=1577815200, todate=1603735200,min=0,tagged='machine-learning', sort='votes', filter= 'withbody')"
   ]
  },
  {
   "cell_type": "code",
   "execution_count": 479,
   "metadata": {},
   "outputs": [
    {
     "data": {
      "text/plain": [
       "7879"
      ]
     },
     "execution_count": 479,
     "metadata": {},
     "output_type": "execute_result"
    }
   ],
   "source": [
    "len(questions['items'])"
   ]
  },
  {
   "cell_type": "code",
   "execution_count": 480,
   "metadata": {},
   "outputs": [],
   "source": [
    "questions_ml = SITE.fetch('questions', fromdate=1577815200, todate=1603735200,min=0,tagged='ml', sort='votes', filter= 'withbody')\n"
   ]
  },
  {
   "cell_type": "code",
   "execution_count": 481,
   "metadata": {},
   "outputs": [
    {
     "data": {
      "text/plain": [
       "33"
      ]
     },
     "execution_count": 481,
     "metadata": {},
     "output_type": "execute_result"
    }
   ],
   "source": [
    "len(questions_ml['items'])"
   ]
  },
  {
   "cell_type": "code",
   "execution_count": 482,
   "metadata": {},
   "outputs": [],
   "source": [
    "lb=[]\n",
    "import re\n",
    "\n",
    "def cleanhtml(raw_html):\n",
    "  cleanr = re.compile('<.*?>')\n",
    "  cleantext = re.sub(cleanr, '', raw_html)\n",
    "  return cleantext\n",
    "\n",
    "for i in range (7879):\n",
    "    #p=cleanhtml(str(questions['items'][i]['body']))\n",
    "    p=cleanhtml(questions['items'][i]['body'])\n",
    "    lb.append(p)\n",
    "\n",
    "lb_ml=[]\n",
    "import re\n",
    "\n",
    "def cleanhtml(raw_html):\n",
    "  cleanr = re.compile('<.*?>')\n",
    "  cleantext = re.sub(cleanr, '', raw_html)\n",
    "  return cleantext\n",
    "\n",
    "for i in range (33):\n",
    "    #p=cleanhtml(str(questions['items'][i]['body']))\n",
    "    p=cleanhtml(questions_ml['items'][i]['body'])\n",
    "    lb_ml.append(p)\n",
    "\n",
    "lta=[]\n",
    "import re\n",
    "\n",
    "def cleanhtml(raw_html):\n",
    "    cleantext = [k.replace('[', '').replace(']', '').replace(\"'\", '') for k in raw_html]\n",
    "    return cleantext\n",
    "\n",
    "for i in range (7879):\n",
    "    #p=cleanhtml(str(questions['items'][i]['tags']))\n",
    "    p=cleanhtml(questions['items'][i]['tags'])\n",
    "    lta.append(p)\n",
    "\n",
    "lta_ml=[]\n",
    "import re\n",
    "\n",
    "def cleanhtml(raw_html):\n",
    "    cleantext = [k.replace('[', '').replace(']', '').replace(\"'\", '') for k in raw_html]\n",
    "    return cleantext\n",
    "\n",
    "for i in range (33):\n",
    "    #p=cleanhtml(str(questions['items'][i]['tags']))\n",
    "    p=cleanhtml(questions_ml['items'][i]['tags'])\n",
    "    lta_ml.append(p)\n",
    "\n",
    "li3=[]\n",
    "#li4=[]\n",
    "#li5=[]\n",
    "for i in range (7879):\n",
    "    li3.append(questions['items'][i]['title'])\n",
    "    #li4.append(questions['items'][i]['body'])\n",
    "    #li5.append(questions['items'][i]['tags'])\n",
    "list_of_tuples = list(zip(li3, lb, lta))\n",
    "df_new_23= pd.DataFrame(list_of_tuples, columns = ['Title', 'Body', 'Tags'])\n",
    "\n",
    "li3_ml=[]\n",
    "#li4=[]\n",
    "#li5=[]\n",
    "for i in range (33):\n",
    "    li3_ml.append(questions_ml['items'][i]['title'])\n",
    "    #li4.append(questions['items'][i]['body'])\n",
    "    #li5.append(questions['items'][i]['tags'])\n",
    "list_of_tuples = list(zip(li3_ml, lb_ml, lta_ml))\n",
    "df_new_23_ml= pd.DataFrame(list_of_tuples, columns = ['Title', 'Body', 'Tags'])\n",
    "\n",
    "strings=df_ex\n",
    "ls=[]\n",
    "#print(strings)\n",
    "for i in range (7879):\n",
    "    #print(string)\n",
    "    l=len(df_new_23['Tags'][i])\n",
    "    flag=0\n",
    "    for j in range(l):\n",
    "        #print(str)\n",
    "        if \"mobile\" in df_new_23['Tags'][i][j]:\n",
    "            ls.append(1)\n",
    "            flag=1\n",
    "            break\n",
    "        if \"android\" in df_new_23['Tags'][i][j]:\n",
    "            ls.append(1)\n",
    "            flag=1\n",
    "            break\n",
    "        if \"windows\" in df_new_23['Tags'][i][j]:\n",
    "            ls.append(2)\n",
    "            flag=2\n",
    "            break\n",
    "        if \"windows-machine-learning\" in df_new_23['Tags'][i][j]:\n",
    "            ls.append(2)\n",
    "            flag=2\n",
    "            break\n",
    "        if \"linux\" in df_new_23['Tags'][i][j]:\n",
    "            ls.append(3)\n",
    "            flag=3\n",
    "            break\n",
    "        if \"ubuntu\" in df_new_23['Tags'][i][j]:\n",
    "            ls.append(4)\n",
    "            flag=4\n",
    "            break\n",
    "    if flag==0:\n",
    "        ls.append(0)\n",
    "\n",
    "strings=df_ex\n",
    "ls_ml=[]\n",
    "#print(strings)\n",
    "for i in range (33):\n",
    "    #print(string)\n",
    "    l=len(df_new_23_ml['Tags'][i])\n",
    "    flag=0\n",
    "    for j in range(l):\n",
    "        #print(str)\n",
    "        if \"mobile\" in df_new_23_ml['Tags'][i][j]:\n",
    "            ls_ml.append(1)\n",
    "            flag=1\n",
    "            break\n",
    "        if \"android\" in df_new_23_ml['Tags'][i][j]:\n",
    "            ls_ml.append(1)\n",
    "            flag=1\n",
    "            break\n",
    "        if \"windows\" in df_new_23_ml['Tags'][i][j]:\n",
    "            ls_ml.append(2)\n",
    "            flag=2\n",
    "            break\n",
    "        if \"windows-machine-learning\" in df_new_23_ml['Tags'][i][j]:\n",
    "            ls_ml.append(2)\n",
    "            flag=2\n",
    "            break\n",
    "        if \"linux\" in df_new_23_ml['Tags'][i][j]:\n",
    "            ls_ml.append(3)\n",
    "            flag=3\n",
    "            break\n",
    "        if \"ubuntu\" in df_new_23_ml['Tags'][i][j]:\n",
    "            ls_ml.append(4)\n",
    "            flag=4\n",
    "            break\n",
    "    if flag==0:\n",
    "        ls_ml.append(0)\n",
    "\n",
    "df_new_23['tag_up']=ls\n",
    "df_new_23_ml['tag_up']=ls_ml\n",
    "merge_2020=[df_new_23,df_new_23_ml]\n",
    "df_2020=pd.concat(merge_2020)\n",
    "df_2020.to_csv(\"2020.csv\")"
   ]
  },
  {
   "cell_type": "markdown",
   "metadata": {},
   "source": [
    "# Topic Modeling"
   ]
  },
  {
   "cell_type": "markdown",
   "metadata": {},
   "source": [
    "2017"
   ]
  },
  {
   "cell_type": "code",
   "execution_count": 618,
   "metadata": {},
   "outputs": [],
   "source": [
    "df_2017_mob=df_2017[df_2017['tag_up']==1]\n",
    "df_2017_mob.reset_index(drop=True, inplace=True)"
   ]
  },
  {
   "cell_type": "code",
   "execution_count": 619,
   "metadata": {},
   "outputs": [
    {
     "data": {
      "text/html": [
       "<div>\n",
       "<style scoped>\n",
       "    .dataframe tbody tr th:only-of-type {\n",
       "        vertical-align: middle;\n",
       "    }\n",
       "\n",
       "    .dataframe tbody tr th {\n",
       "        vertical-align: top;\n",
       "    }\n",
       "\n",
       "    .dataframe thead th {\n",
       "        text-align: right;\n",
       "    }\n",
       "</style>\n",
       "<table border=\"1\" class=\"dataframe\">\n",
       "  <thead>\n",
       "    <tr style=\"text-align: right;\">\n",
       "      <th></th>\n",
       "      <th>Title</th>\n",
       "      <th>Body</th>\n",
       "      <th>Tags</th>\n",
       "      <th>tag_up</th>\n",
       "    </tr>\n",
       "  </thead>\n",
       "  <tbody>\n",
       "    <tr>\n",
       "      <th>0</th>\n",
       "      <td>How to improve accuracy of Tensorflow camera demo on iOS for retrained graph</td>\n",
       "      <td>I have an Android app that was modeled after the Tensorflow Android demo for classifying images,\\n\\nhttps://github.com/tensorflow/tensorflow/tree/master/tensorflow/examples/android\\n\\nThe original app uses a tensorflow graph (.pb) file to classify a generic set of images from Inception v3 (I think)\\n\\nI then trained my own graph for my own images following the instruction in Tensorflow for Poets blog,\\n\\nhttps://petewarden.com/2016/02/28/tensorflow-for-poets/\\n\\nand this worked in the Androi...</td>\n",
       "      <td>[android, ios, objective-c, machine-learning, tensorflow]</td>\n",
       "      <td>1</td>\n",
       "    </tr>\n",
       "    <tr>\n",
       "      <th>1</th>\n",
       "      <td>How can I use Tensorflow with react-native?</td>\n",
       "      <td>I've looked around the web and cant seem to find a way to use React Native with TensorFlow.\\nI don't think TF supports react-native (at least not officially) integration but i hope someone in the community has found a way.\\nHow can one use TensorFlow in a React Native project?\\nThanks.\\n\\nCONTRIBUTOR UPDATE: Now is possible\\n\\n</td>\n",
       "      <td>[android, ios, machine-learning, react-native, tensorflow]</td>\n",
       "      <td>1</td>\n",
       "    </tr>\n",
       "    <tr>\n",
       "      <th>2</th>\n",
       "      <td>Machine Learning Libraries For Android</td>\n",
       "      <td>I am trying build a small text mining tool for my android app. I am checking for a machine learning library that will allow me to cluster, classify etc.\\n\\nAre there any machine learning libraries for android? I came across tensorflow but I need a bit more access to common ML functions.\\n</td>\n",
       "      <td>[android, machine-learning, nlp, artificial-intelligence, text-mining]</td>\n",
       "      <td>1</td>\n",
       "    </tr>\n",
       "    <tr>\n",
       "      <th>3</th>\n",
       "      <td>Same Tensorflow model giving different results on Android and Python</td>\n",
       "      <td>I am trying to run a Tensorflow model on my Android application, but the same trained model gives different results (wrong inference) compared to when it is run on Python on desktop.\\n\\nThe model is a simple sequential CNN to recognize characters, much like this number plate recognition network, minus the windowing, as my model has the characters already cropped into place.\\n\\nI have:\\n\\n\\nModel saved in protobuf (.pb) file - modeled and trained in Keras on Python/Linux + GPU\\nThe inference ...</td>\n",
       "      <td>[android, python, machine-learning, tensorflow]</td>\n",
       "      <td>1</td>\n",
       "    </tr>\n",
       "    <tr>\n",
       "      <th>4</th>\n",
       "      <td>Deep learning for face detection in mobile device</td>\n",
       "      <td>I want to create a face detection mobile app and I want to do it with a regular Deep Learning(Convolutional Network). I will train it with my computer and use trained data in the mobile app.\\n\\nMy question is that: can I get very fast computation in the regulat phone like iPhone? I need it be very fast and under 1 sec can detect a face in the video. Is it possible on a mobile device? or this kind of task need more powerful hardware?\\n\\nI know training phase must be in a powerful computer but...</td>\n",
       "      <td>[mobile, machine-learning, neural-network, computer-vision, deep-learning]</td>\n",
       "      <td>1</td>\n",
       "    </tr>\n",
       "    <tr>\n",
       "      <th>5</th>\n",
       "      <td>What is the difference between Google Cloud Vision API and Mobile Vision?</td>\n",
       "      <td>I have been playing with cloud vision API. I did some label and facial detection. During this Google I/O, there is a session where they talked about mobile vision. I understand both the APIs are related to machine learning in Google Cloud. \\n\\nCan anyone explain (use-cases) when to use one over another? \\n\\nwhat sort of applications that we can build by using both ?\\n</td>\n",
       "      <td>[api, mobile, machine-learning, cloud, google-cloud-platform]</td>\n",
       "      <td>1</td>\n",
       "    </tr>\n",
       "    <tr>\n",
       "      <th>6</th>\n",
       "      <td>Query classification for Virtual Assistant in Java?</td>\n",
       "      <td>This is my first time posting to Stack Overflow, so please let know if I should be more thorough when asking questions in the future.\\n\\nCurrently I am working on a Virtual Assistant application for Android using Java, and although it is going well so far, I am unsure how to approach classifying user input. So far I have implemented the Stanford NLP Parser within the program, so that clause, phrase, and word labels can be applied to the raw text. This has allowed me to have the program recog...</td>\n",
       "      <td>[java, android, machine-learning, nlp, stanford-nlp]</td>\n",
       "      <td>1</td>\n",
       "    </tr>\n",
       "    <tr>\n",
       "      <th>7</th>\n",
       "      <td>GRT lib, and how to import Native lib on Android Studio</td>\n",
       "      <td>I'm working on an Android app (with Android Studio) who is able to understand the activity you are doing with an algorithm of gesture recognition. \\nFor the algorithm I'm using GRT library available on nickgillian ithub account (I cannot post the link, cause my newbie reputation)\\n\\nI'm trying to import the GRT (gesture recognition toolkit) on my project, but I'm having some issues, cause I'm new with ndk applications.\\nFor importing the library I followed some tutorials on youtube and this ...</td>\n",
       "      <td>[java, android, android-studio, machine-learning, android-ndk]</td>\n",
       "      <td>1</td>\n",
       "    </tr>\n",
       "    <tr>\n",
       "      <th>8</th>\n",
       "      <td>java.nio.BufferOverflowException run-time error when running TensorFlow model in Android?</td>\n",
       "      <td>For some reason, I am getting this error whenever I increase my input image size for inference in android (for image classification):\\n\\n Process: com.example.android.androidevaluateimagenet, PID: 31064\\n java.nio.BufferOverflowException\\n     at java.nio.FloatBuffer.put(FloatBuffer.java:444)\\n     at org.tensorflow.Tensor.writeTo(Tensor.java:390)\\n     at org.tensorflow.contrib.android.TensorFlowInferenceInterface.fetch(TensorFlowInferenceInterface.java:338)\\n     at org.tensorflow.contrib....</td>\n",
       "      <td>[java, android, machine-learning, tensorflow, computer-vision]</td>\n",
       "      <td>1</td>\n",
       "    </tr>\n",
       "    <tr>\n",
       "      <th>9</th>\n",
       "      <td>Android Bitmap Downscaling</td>\n",
       "      <td>What is the best method to downscale a bitmap image on Android using Java if the goal is to preserve the quality of lines/edges, as much as possible? The intent is to use these downscaled images to train a neural network.\\n\\nEach image will contain a single character (in this case Chinese). The picture below shows the original image produced on a View object, drawn by the user. My goal is to shrink this bitmap image to a resolution of 30 by 30 pixels. \\n\\nI am currently using the Bitmap crea...</td>\n",
       "      <td>[java, android, image, machine-learning, bitmap]</td>\n",
       "      <td>1</td>\n",
       "    </tr>\n",
       "    <tr>\n",
       "      <th>10</th>\n",
       "      <td>Neura SDK implementation on android</td>\n",
       "      <td>Is Neura SDK a Geofencing SDK? I am developing an Android application that will allow users to rent their parking spots on hourly basis and promoting efficient parking management.  \\n</td>\n",
       "      <td>[android, machine-learning, geolocation, location, neura]</td>\n",
       "      <td>1</td>\n",
       "    </tr>\n",
       "    <tr>\n",
       "      <th>11</th>\n",
       "      <td>OpenCV android - How to recognize specific objects</td>\n",
       "      <td>I have been making application which recognize car light symbols on Android in Java using OpenCV. I take the images from phone's camera. I use OpenCV 3.2.0 version. What I have done so far: \\n\\n\\nFilter out the colors in an image\\nReduce the noise\\nDetect an object by size\\nSort out the object by color(the object will be compared with the same object's color)\\n\\n\\nDetected object:\\n\\n\\n\\nColors filtered out:\\n\\n\\n\\nWhat would be good option to recognize those (binary images) objects? I took ...</td>\n",
       "      <td>[android, opencv, machine-learning, opencv3.0]</td>\n",
       "      <td>1</td>\n",
       "    </tr>\n",
       "    <tr>\n",
       "      <th>12</th>\n",
       "      <td>Importing model trained in Keras as .pb file</td>\n",
       "      <td>I have a trained face recognition system using Keras on my Ubuntu machine. I am facing certain issues regarding deploying it to Android. As of now, android does not support Keras or TFlearn. I need to convert the Keras model into .pb file for the deployment. Can anyone help me with deployment of a manually trained model on android ? \\n</td>\n",
       "      <td>[android, machine-learning, tensorflow, computer-vision, deep-learning]</td>\n",
       "      <td>1</td>\n",
       "    </tr>\n",
       "    <tr>\n",
       "      <th>13</th>\n",
       "      <td>Why &amp;quot;java.lang.ClassNotFoundException: weka.core.NominalAttributeInfo&amp;quot; error in Java weka Android Studio?</td>\n",
       "      <td>I am creating a machine learning app in Android using weka, but I get an error while creating classifier from pre-trained model.\\nFollowing is my Android code snippet:\\n\\nAssetManager am = this.getAssets();\\nInputStream stnonstmodel = am.open(\"stnonstgoodmodel.model\");\\nClassifier  cls= (Classifier) weka.core.SerializationHelper.read(stnonstmodel); // I am getting error on this line\\n\\n\\nAlso, it must be noted that the classifier returns null whenever used after this line.\\nPrinting cls.toSt...</td>\n",
       "      <td>[java, android, machine-learning, weka]</td>\n",
       "      <td>1</td>\n",
       "    </tr>\n",
       "    <tr>\n",
       "      <th>14</th>\n",
       "      <td>Android Mobile Vision API and NN API</td>\n",
       "      <td>In Google I/O 2017, it introduced lots of technologies benefit to develop AI applications. \\n\\nBut I'm kind of confused to Mobile Vision API and NN API.\\n\\nAny relationship between them ? \\nMobile vision API was built on top of NN(Neural Network) API ? Or they're just two independent APIs ?  The NN API will be only called by Tensorflow lite and application will just face to TF-lite.\\n</td>\n",
       "      <td>[android, machine-learning, googleio]</td>\n",
       "      <td>1</td>\n",
       "    </tr>\n",
       "    <tr>\n",
       "      <th>15</th>\n",
       "      <td>Train Android app to recognize sensor patterns using machine learning</td>\n",
       "      <td>I'd like my app to be able to detect when the user carrying the phone falls, using only accelerometer data (because it's the only sensor available on all smartphones).\\n\\nI first tried to implement an algorithm to detect free fall (accelerometer total acceleration nearing zero, followed by high acceleration due to ground hitting, and a short period of motionlessness to ditch false positives when the user is just walking downstairs quickly), but there's a lot of ways to fall, and for my algor...</td>\n",
       "      <td>[android, machine-learning, tensorflow, accelerometer, android-sensors]</td>\n",
       "      <td>1</td>\n",
       "    </tr>\n",
       "    <tr>\n",
       "      <th>16</th>\n",
       "      <td>Can TensorFlow Models be Updated on the fly for Android Apps</td>\n",
       "      <td>We have a requirement where models need to be updated on the flow . We could use some API to get the latest models . Is updating models possible when we use TensorFlow for android . If not are there any suggested alternatives ?\\n</td>\n",
       "      <td>[android, machine-learning, tensorflow]</td>\n",
       "      <td>1</td>\n",
       "    </tr>\n",
       "    <tr>\n",
       "      <th>17</th>\n",
       "      <td>How to use classifier for external purposes?</td>\n",
       "      <td>I have build a text classifier using sckit-learn. I have to use it in a app that is android based, but main problem is how do I use that in app. One thing I know that I can host a server and get data by requests but it will slow down the working of it, please suggest me some better ways.\\n</td>\n",
       "      <td>[android, python, machine-learning]</td>\n",
       "      <td>1</td>\n",
       "    </tr>\n",
       "    <tr>\n",
       "      <th>18</th>\n",
       "      <td>detection of handwritten alphanumerics in natural images</td>\n",
       "      <td>I'm trying to detect the class &amp;amp; location of handwritten alphanumerics in a given image,\\nafter looking around I found that the best way to achieve that is using deep neural networks, is there is a way to achieve that using tensorflow? (I would like to come up with something fast as it will be used in a live detection app on Android &amp;amp; IOS). more importantly, what kind of dataset can I use for this? will EMNIST be good for that?\\n\\nor can I use YOLOV2 but with Alphanumerics for that ?...</td>\n",
       "      <td>[android, ios, machine-learning, tensorflow, computer-vision]</td>\n",
       "      <td>1</td>\n",
       "    </tr>\n",
       "    <tr>\n",
       "      <th>19</th>\n",
       "      <td>Custom Keyboard in Android</td>\n",
       "      <td>I want to develop a Keyboard in Android. How Should I proceed? Also I wanted to know whether all the popular keyboards used today in Android implement Machine Learning or Natural Language Processing.\\n</td>\n",
       "      <td>[machine-learning, nlp, android-softkeyboard, custom-keyboard]</td>\n",
       "      <td>1</td>\n",
       "    </tr>\n",
       "    <tr>\n",
       "      <th>20</th>\n",
       "      <td>Sensors - device coordinate system vs world frame coordinate system</td>\n",
       "      <td>I am collecting accelerometer and gyroscope data from an Android smartwatch while being in a moving car.\\n\\nThe goal is to be able to classify, using Hidden Markov Modelss, whether the subjects are the driver of the car of a passenger, looking at e.g. the steering wheel.\\n\\nWhen reading about android sensors, i noticed the following statement:\\nhttps://developer.android.com/guide/topics/sensors/sensors_overview.html\\n\\n\\n  When a device is held in its default orientation, the X axis is horiz...</td>\n",
       "      <td>[android, machine-learning, accelerometer, android-sensors, coordinate-systems]</td>\n",
       "      <td>1</td>\n",
       "    </tr>\n",
       "    <tr>\n",
       "      <th>21</th>\n",
       "      <td>Mobile speech recognition in Kazakh</td>\n",
       "      <td>I want to create a little mobile application for android based on speech recognition. Problem is that there is no such API, which have kazakh dictionary (I tried to find). So, I want to use API which can create own dictionary. Is there any API?\\n\\nI am not familiar with machine learning, but I understand that I have to teach the system.\\n</td>\n",
       "      <td>[android, machine-learning, speech-recognition]</td>\n",
       "      <td>1</td>\n",
       "    </tr>\n",
       "    <tr>\n",
       "      <th>22</th>\n",
       "      <td>Can TensoFlow learn unstructured data?</td>\n",
       "      <td>I'm new to TensoFlow and I'd like to know if it is possible to make a tensor flow algorithm do a deep learning in a website or in a database, for instance.\\nI wish to make and App for iOS using an API, witch someone can ask something about a course in a university for instance and the software would be able to answer.\\nThanks!\\n</td>\n",
       "      <td>[mobile, machine-learning, tensorflow, voice-recognition]</td>\n",
       "      <td>1</td>\n",
       "    </tr>\n",
       "    <tr>\n",
       "      <th>23</th>\n",
       "      <td>How can I get separate digit image from a number image in android?</td>\n",
       "      <td>I have a number Image in android like this. \\n\\n\\n\\nI want to get every digit's image separately. like this- \\n\\nzero: \\n\\n\\nOne:\\n\\n\\nTwo:\\n\\n\\nThree:\\n\\n\\nFour:\\n\\n\\nI want to run some machine learning algorithm on this digit's image to detect the digits. How can I get this digit image from a number image in android? \\n</td>\n",
       "      <td>[android, image-processing, machine-learning]</td>\n",
       "      <td>1</td>\n",
       "    </tr>\n",
       "    <tr>\n",
       "      <th>24</th>\n",
       "      <td>Tensorflow error on Android</td>\n",
       "      <td>I am learning Tensorflow and following a tutorial I was able to make a custom model to run it in an Android App but I am having problems with it. I have the following code:\\n\\n    public void testModel(Context ctx) {\\n        String model_file = \"file:///android_asset/model_graph.pb\";\\n        int[] result = new int[2];\\n        float[] input = new float[]{0.0F, 1.0F, 0.0F, 1.0F, 1.0F, 0.0F, 0.0F, 1.0F, 0.0F, 1.0F, 0.0F, 1.0F, 0.0F, 1.0F, 1.0F, 0.0F, 0.0F, 0.0F, 0.0F, 1.0F, 1.0F, 0.0F, 1.0F,...</td>\n",
       "      <td>[android, machine-learning, tensorflow]</td>\n",
       "      <td>1</td>\n",
       "    </tr>\n",
       "    <tr>\n",
       "      <th>25</th>\n",
       "      <td>Running python script on Android local server</td>\n",
       "      <td>I need to build a chatbot which does not takes any online support.\\nI am using:\\n\\n\\n\\nPython chatterbot to build conversation dialogues.\\nAndroid's google offline speech recognition to convert speech to text and vice versa.\\n\\n\\nI want to train the model on my PC and use the generated database.sqlite3 file on android.\\n\\nThe complete flow of the process is as follows:\\n\\n\\nPretrained model generated database.sqlite3 which is placed in android.\\nVoice -&gt; Text -&gt; Local Android Server which ru...</td>\n",
       "      <td>[android, python, machine-learning, chatbot, chatterbot]</td>\n",
       "      <td>1</td>\n",
       "    </tr>\n",
       "    <tr>\n",
       "      <th>26</th>\n",
       "      <td>How to define &amp;quot;duplicate&amp;quot; Android APKs?</td>\n",
       "      <td>\\n\\n\\n\\n\\n\\n\\n\\nI have downloaded a lot of Android APKs with different hashes, and after doing reverse engineering, I found that lots of APKs have exactly the same occurrences of API calls, among 145 calls in Android Level 17. (Personally, I think there is little chance for two different samples have the same API calls)\\n\\nI used machine learning methods to classify the APK samples, but I do not know how to deal with the \"duplicates\" mentioned above.\\n\\nShould I treat those APKs as different...</td>\n",
       "      <td>[android, security, machine-learning]</td>\n",
       "      <td>1</td>\n",
       "    </tr>\n",
       "    <tr>\n",
       "      <th>27</th>\n",
       "      <td>what kind of Machine Learning algorithm Fitbit might be using to determine how much user has slept?</td>\n",
       "      <td>So a wearable device like Fitbit has data from accelerometer( movements in the wearable(watch) ) and also heart rate depending upon the device. \\nAnd using the data from these inputs, fitbit is able to predict how much user has slept. \\nSo data I have looks like :\\n\\nTime              |Screen | Mobile_state | Plugged/Unplugged| \\n\\n10PM    - 10:30PM | ON    |  Moving      |  Unplugged       \\n11PM    - 11:15PM | ON    |  Moving      |  Plugged         \\n11:15PM - 11:51PM | OFF   |  Idle     ...</td>\n",
       "      <td>[android, machine-learning, time-series, fitbit, sleep-mode]</td>\n",
       "      <td>1</td>\n",
       "    </tr>\n",
       "    <tr>\n",
       "      <th>28</th>\n",
       "      <td>OpenCV Error: imread() doesn&amp;#39;t load my image</td>\n",
       "      <td>I'm writing an Android Application that allows the user to take a picture of a digit and then return the digit on the screen. I'm writing in C++ in Android Studio and I use the library OpenCV.\\n\\nI load in the image:\\n\\ncv::imread(\"C:\\\\Users\\\\Cornee\\\\Downloads\\\\OpenCVApp\\\\test.jpg\",0);\\n\\n\\nThen I check if it worked with:\\n\\nif(image.empty()) {\\n    std::string x = \"Picture is not loaded!\";\\n    return env-&amp;gt;NewStringUTF(x.c_str());\\n}\\n\\n\\nWhen I run the application it returns the 'Pictur...</td>\n",
       "      <td>[android-studio, opencv, machine-learning, android-ndk, java-native-interface]</td>\n",
       "      <td>1</td>\n",
       "    </tr>\n",
       "    <tr>\n",
       "      <th>29</th>\n",
       "      <td>Neural Network on Android?</td>\n",
       "      <td>I have a dataset of some disease. It contains the symptomes.\\n\\nHow can I train model on my local machine and than use it in Android app? (user will input symptomes and app preidcts result - yes or no)\\n</td>\n",
       "      <td>[android, machine-learning, neural-network]</td>\n",
       "      <td>1</td>\n",
       "    </tr>\n",
       "  </tbody>\n",
       "</table>\n",
       "</div>"
      ],
      "text/plain": [
       "                                                                                                                  Title  \\\n",
       "0                                          How to improve accuracy of Tensorflow camera demo on iOS for retrained graph   \n",
       "1                                                                           How can I use Tensorflow with react-native?   \n",
       "2                                                                                Machine Learning Libraries For Android   \n",
       "3                                                  Same Tensorflow model giving different results on Android and Python   \n",
       "4                                                                     Deep learning for face detection in mobile device   \n",
       "5                                             What is the difference between Google Cloud Vision API and Mobile Vision?   \n",
       "6                                                                   Query classification for Virtual Assistant in Java?   \n",
       "7                                                               GRT lib, and how to import Native lib on Android Studio   \n",
       "8                             java.nio.BufferOverflowException run-time error when running TensorFlow model in Android?   \n",
       "9                                                                                            Android Bitmap Downscaling   \n",
       "10                                                                                  Neura SDK implementation on android   \n",
       "11                                                                   OpenCV android - How to recognize specific objects   \n",
       "12                                                                         Importing model trained in Keras as .pb file   \n",
       "13  Why &quot;java.lang.ClassNotFoundException: weka.core.NominalAttributeInfo&quot; error in Java weka Android Studio?   \n",
       "14                                                                                 Android Mobile Vision API and NN API   \n",
       "15                                                Train Android app to recognize sensor patterns using machine learning   \n",
       "16                                                         Can TensorFlow Models be Updated on the fly for Android Apps   \n",
       "17                                                                         How to use classifier for external purposes?   \n",
       "18                                                             detection of handwritten alphanumerics in natural images   \n",
       "19                                                                                           Custom Keyboard in Android   \n",
       "20                                                  Sensors - device coordinate system vs world frame coordinate system   \n",
       "21                                                                                  Mobile speech recognition in Kazakh   \n",
       "22                                                                               Can TensoFlow learn unstructured data?   \n",
       "23                                                   How can I get separate digit image from a number image in android?   \n",
       "24                                                                                          Tensorflow error on Android   \n",
       "25                                                                        Running python script on Android local server   \n",
       "26                                                                    How to define &quot;duplicate&quot; Android APKs?   \n",
       "27                  what kind of Machine Learning algorithm Fitbit might be using to determine how much user has slept?   \n",
       "28                                                                     OpenCV Error: imread() doesn&#39;t load my image   \n",
       "29                                                                                           Neural Network on Android?   \n",
       "\n",
       "                                                                                                                                                                                                                                                                                                                                                                                                                                                                                                                   Body  \\\n",
       "0   I have an Android app that was modeled after the Tensorflow Android demo for classifying images,\\n\\nhttps://github.com/tensorflow/tensorflow/tree/master/tensorflow/examples/android\\n\\nThe original app uses a tensorflow graph (.pb) file to classify a generic set of images from Inception v3 (I think)\\n\\nI then trained my own graph for my own images following the instruction in Tensorflow for Poets blog,\\n\\nhttps://petewarden.com/2016/02/28/tensorflow-for-poets/\\n\\nand this worked in the Androi...   \n",
       "1                                                                                                                                                                             I've looked around the web and cant seem to find a way to use React Native with TensorFlow.\\nI don't think TF supports react-native (at least not officially) integration but i hope someone in the community has found a way.\\nHow can one use TensorFlow in a React Native project?\\nThanks.\\n\\nCONTRIBUTOR UPDATE: Now is possible\\n\\n   \n",
       "2                                                                                                                                                                                                                     I am trying build a small text mining tool for my android app. I am checking for a machine learning library that will allow me to cluster, classify etc.\\n\\nAre there any machine learning libraries for android? I came across tensorflow but I need a bit more access to common ML functions.\\n   \n",
       "3   I am trying to run a Tensorflow model on my Android application, but the same trained model gives different results (wrong inference) compared to when it is run on Python on desktop.\\n\\nThe model is a simple sequential CNN to recognize characters, much like this number plate recognition network, minus the windowing, as my model has the characters already cropped into place.\\n\\nI have:\\n\\n\\nModel saved in protobuf (.pb) file - modeled and trained in Keras on Python/Linux + GPU\\nThe inference ...   \n",
       "4   I want to create a face detection mobile app and I want to do it with a regular Deep Learning(Convolutional Network). I will train it with my computer and use trained data in the mobile app.\\n\\nMy question is that: can I get very fast computation in the regulat phone like iPhone? I need it be very fast and under 1 sec can detect a face in the video. Is it possible on a mobile device? or this kind of task need more powerful hardware?\\n\\nI know training phase must be in a powerful computer but...   \n",
       "5                                                                                                                                    I have been playing with cloud vision API. I did some label and facial detection. During this Google I/O, there is a session where they talked about mobile vision. I understand both the APIs are related to machine learning in Google Cloud. \\n\\nCan anyone explain (use-cases) when to use one over another? \\n\\nwhat sort of applications that we can build by using both ?\\n   \n",
       "6   This is my first time posting to Stack Overflow, so please let know if I should be more thorough when asking questions in the future.\\n\\nCurrently I am working on a Virtual Assistant application for Android using Java, and although it is going well so far, I am unsure how to approach classifying user input. So far I have implemented the Stanford NLP Parser within the program, so that clause, phrase, and word labels can be applied to the raw text. This has allowed me to have the program recog...   \n",
       "7   I'm working on an Android app (with Android Studio) who is able to understand the activity you are doing with an algorithm of gesture recognition. \\nFor the algorithm I'm using GRT library available on nickgillian ithub account (I cannot post the link, cause my newbie reputation)\\n\\nI'm trying to import the GRT (gesture recognition toolkit) on my project, but I'm having some issues, cause I'm new with ndk applications.\\nFor importing the library I followed some tutorials on youtube and this ...   \n",
       "8   For some reason, I am getting this error whenever I increase my input image size for inference in android (for image classification):\\n\\n Process: com.example.android.androidevaluateimagenet, PID: 31064\\n java.nio.BufferOverflowException\\n     at java.nio.FloatBuffer.put(FloatBuffer.java:444)\\n     at org.tensorflow.Tensor.writeTo(Tensor.java:390)\\n     at org.tensorflow.contrib.android.TensorFlowInferenceInterface.fetch(TensorFlowInferenceInterface.java:338)\\n     at org.tensorflow.contrib....   \n",
       "9   What is the best method to downscale a bitmap image on Android using Java if the goal is to preserve the quality of lines/edges, as much as possible? The intent is to use these downscaled images to train a neural network.\\n\\nEach image will contain a single character (in this case Chinese). The picture below shows the original image produced on a View object, drawn by the user. My goal is to shrink this bitmap image to a resolution of 30 by 30 pixels. \\n\\nI am currently using the Bitmap crea...   \n",
       "10                                                                                                                                                                                                                                                                                                                              Is Neura SDK a Geofencing SDK? I am developing an Android application that will allow users to rent their parking spots on hourly basis and promoting efficient parking management.  \\n   \n",
       "11  I have been making application which recognize car light symbols on Android in Java using OpenCV. I take the images from phone's camera. I use OpenCV 3.2.0 version. What I have done so far: \\n\\n\\nFilter out the colors in an image\\nReduce the noise\\nDetect an object by size\\nSort out the object by color(the object will be compared with the same object's color)\\n\\n\\nDetected object:\\n\\n\\n\\nColors filtered out:\\n\\n\\n\\nWhat would be good option to recognize those (binary images) objects? I took ...   \n",
       "12                                                                                                                                                                    I have a trained face recognition system using Keras on my Ubuntu machine. I am facing certain issues regarding deploying it to Android. As of now, android does not support Keras or TFlearn. I need to convert the Keras model into .pb file for the deployment. Can anyone help me with deployment of a manually trained model on android ? \\n   \n",
       "13  I am creating a machine learning app in Android using weka, but I get an error while creating classifier from pre-trained model.\\nFollowing is my Android code snippet:\\n\\nAssetManager am = this.getAssets();\\nInputStream stnonstmodel = am.open(\"stnonstgoodmodel.model\");\\nClassifier  cls= (Classifier) weka.core.SerializationHelper.read(stnonstmodel); // I am getting error on this line\\n\\n\\nAlso, it must be noted that the classifier returns null whenever used after this line.\\nPrinting cls.toSt...   \n",
       "14                                                                                                                  In Google I/O 2017, it introduced lots of technologies benefit to develop AI applications. \\n\\nBut I'm kind of confused to Mobile Vision API and NN API.\\n\\nAny relationship between them ? \\nMobile vision API was built on top of NN(Neural Network) API ? Or they're just two independent APIs ?  The NN API will be only called by Tensorflow lite and application will just face to TF-lite.\\n   \n",
       "15  I'd like my app to be able to detect when the user carrying the phone falls, using only accelerometer data (because it's the only sensor available on all smartphones).\\n\\nI first tried to implement an algorithm to detect free fall (accelerometer total acceleration nearing zero, followed by high acceleration due to ground hitting, and a short period of motionlessness to ditch false positives when the user is just walking downstairs quickly), but there's a lot of ways to fall, and for my algor...   \n",
       "16                                                                                                                                                                                                                                                                                We have a requirement where models need to be updated on the flow . We could use some API to get the latest models . Is updating models possible when we use TensorFlow for android . If not are there any suggested alternatives ?\\n   \n",
       "17                                                                                                                                                                                                                   I have build a text classifier using sckit-learn. I have to use it in a app that is android based, but main problem is how do I use that in app. One thing I know that I can host a server and get data by requests but it will slow down the working of it, please suggest me some better ways.\\n   \n",
       "18  I'm trying to detect the class &amp; location of handwritten alphanumerics in a given image,\\nafter looking around I found that the best way to achieve that is using deep neural networks, is there is a way to achieve that using tensorflow? (I would like to come up with something fast as it will be used in a live detection app on Android &amp; IOS). more importantly, what kind of dataset can I use for this? will EMNIST be good for that?\\n\\nor can I use YOLOV2 but with Alphanumerics for that ?...   \n",
       "19                                                                                                                                                                                                                                                                                                            I want to develop a Keyboard in Android. How Should I proceed? Also I wanted to know whether all the popular keyboards used today in Android implement Machine Learning or Natural Language Processing.\\n   \n",
       "20  I am collecting accelerometer and gyroscope data from an Android smartwatch while being in a moving car.\\n\\nThe goal is to be able to classify, using Hidden Markov Modelss, whether the subjects are the driver of the car of a passenger, looking at e.g. the steering wheel.\\n\\nWhen reading about android sensors, i noticed the following statement:\\nhttps://developer.android.com/guide/topics/sensors/sensors_overview.html\\n\\n\\n  When a device is held in its default orientation, the X axis is horiz...   \n",
       "21                                                                                                                                                                 I want to create a little mobile application for android based on speech recognition. Problem is that there is no such API, which have kazakh dictionary (I tried to find). So, I want to use API which can create own dictionary. Is there any API?\\n\\nI am not familiar with machine learning, but I understand that I have to teach the system.\\n   \n",
       "22                                                                                                                                                                           I'm new to TensoFlow and I'd like to know if it is possible to make a tensor flow algorithm do a deep learning in a website or in a database, for instance.\\nI wish to make and App for iOS using an API, witch someone can ask something about a course in a university for instance and the software would be able to answer.\\nThanks!\\n   \n",
       "23                                                                                                                                                                                  I have a number Image in android like this. \\n\\n\\n\\nI want to get every digit's image separately. like this- \\n\\nzero: \\n\\n\\nOne:\\n\\n\\nTwo:\\n\\n\\nThree:\\n\\n\\nFour:\\n\\n\\nI want to run some machine learning algorithm on this digit's image to detect the digits. How can I get this digit image from a number image in android? \\n   \n",
       "24  I am learning Tensorflow and following a tutorial I was able to make a custom model to run it in an Android App but I am having problems with it. I have the following code:\\n\\n    public void testModel(Context ctx) {\\n        String model_file = \"file:///android_asset/model_graph.pb\";\\n        int[] result = new int[2];\\n        float[] input = new float[]{0.0F, 1.0F, 0.0F, 1.0F, 1.0F, 0.0F, 0.0F, 1.0F, 0.0F, 1.0F, 0.0F, 1.0F, 0.0F, 1.0F, 1.0F, 0.0F, 0.0F, 0.0F, 0.0F, 1.0F, 1.0F, 0.0F, 1.0F,...   \n",
       "25  I need to build a chatbot which does not takes any online support.\\nI am using:\\n\\n\\n\\nPython chatterbot to build conversation dialogues.\\nAndroid's google offline speech recognition to convert speech to text and vice versa.\\n\\n\\nI want to train the model on my PC and use the generated database.sqlite3 file on android.\\n\\nThe complete flow of the process is as follows:\\n\\n\\nPretrained model generated database.sqlite3 which is placed in android.\\nVoice -> Text -> Local Android Server which ru...   \n",
       "26  \\n\\n\\n\\n\\n\\n\\n\\nI have downloaded a lot of Android APKs with different hashes, and after doing reverse engineering, I found that lots of APKs have exactly the same occurrences of API calls, among 145 calls in Android Level 17. (Personally, I think there is little chance for two different samples have the same API calls)\\n\\nI used machine learning methods to classify the APK samples, but I do not know how to deal with the \"duplicates\" mentioned above.\\n\\nShould I treat those APKs as different...   \n",
       "27  So a wearable device like Fitbit has data from accelerometer( movements in the wearable(watch) ) and also heart rate depending upon the device. \\nAnd using the data from these inputs, fitbit is able to predict how much user has slept. \\nSo data I have looks like :\\n\\nTime              |Screen | Mobile_state | Plugged/Unplugged| \\n\\n10PM    - 10:30PM | ON    |  Moving      |  Unplugged       \\n11PM    - 11:15PM | ON    |  Moving      |  Plugged         \\n11:15PM - 11:51PM | OFF   |  Idle     ...   \n",
       "28  I'm writing an Android Application that allows the user to take a picture of a digit and then return the digit on the screen. I'm writing in C++ in Android Studio and I use the library OpenCV.\\n\\nI load in the image:\\n\\ncv::imread(\"C:\\\\Users\\\\Cornee\\\\Downloads\\\\OpenCVApp\\\\test.jpg\",0);\\n\\n\\nThen I check if it worked with:\\n\\nif(image.empty()) {\\n    std::string x = \"Picture is not loaded!\";\\n    return env-&gt;NewStringUTF(x.c_str());\\n}\\n\\n\\nWhen I run the application it returns the 'Pictur...   \n",
       "29                                                                                                                                                                                                                                                                                                          I have a dataset of some disease. It contains the symptomes.\\n\\nHow can I train model on my local machine and than use it in Android app? (user will input symptomes and app preidcts result - yes or no)\\n   \n",
       "\n",
       "                                                                               Tags  \\\n",
       "0                         [android, ios, objective-c, machine-learning, tensorflow]   \n",
       "1                        [android, ios, machine-learning, react-native, tensorflow]   \n",
       "2            [android, machine-learning, nlp, artificial-intelligence, text-mining]   \n",
       "3                                   [android, python, machine-learning, tensorflow]   \n",
       "4        [mobile, machine-learning, neural-network, computer-vision, deep-learning]   \n",
       "5                     [api, mobile, machine-learning, cloud, google-cloud-platform]   \n",
       "6                              [java, android, machine-learning, nlp, stanford-nlp]   \n",
       "7                    [java, android, android-studio, machine-learning, android-ndk]   \n",
       "8                    [java, android, machine-learning, tensorflow, computer-vision]   \n",
       "9                                  [java, android, image, machine-learning, bitmap]   \n",
       "10                        [android, machine-learning, geolocation, location, neura]   \n",
       "11                                   [android, opencv, machine-learning, opencv3.0]   \n",
       "12          [android, machine-learning, tensorflow, computer-vision, deep-learning]   \n",
       "13                                          [java, android, machine-learning, weka]   \n",
       "14                                            [android, machine-learning, googleio]   \n",
       "15          [android, machine-learning, tensorflow, accelerometer, android-sensors]   \n",
       "16                                          [android, machine-learning, tensorflow]   \n",
       "17                                              [android, python, machine-learning]   \n",
       "18                    [android, ios, machine-learning, tensorflow, computer-vision]   \n",
       "19                   [machine-learning, nlp, android-softkeyboard, custom-keyboard]   \n",
       "20  [android, machine-learning, accelerometer, android-sensors, coordinate-systems]   \n",
       "21                                  [android, machine-learning, speech-recognition]   \n",
       "22                        [mobile, machine-learning, tensorflow, voice-recognition]   \n",
       "23                                    [android, image-processing, machine-learning]   \n",
       "24                                          [android, machine-learning, tensorflow]   \n",
       "25                         [android, python, machine-learning, chatbot, chatterbot]   \n",
       "26                                            [android, security, machine-learning]   \n",
       "27                     [android, machine-learning, time-series, fitbit, sleep-mode]   \n",
       "28   [android-studio, opencv, machine-learning, android-ndk, java-native-interface]   \n",
       "29                                      [android, machine-learning, neural-network]   \n",
       "\n",
       "    tag_up  \n",
       "0        1  \n",
       "1        1  \n",
       "2        1  \n",
       "3        1  \n",
       "4        1  \n",
       "5        1  \n",
       "6        1  \n",
       "7        1  \n",
       "8        1  \n",
       "9        1  \n",
       "10       1  \n",
       "11       1  \n",
       "12       1  \n",
       "13       1  \n",
       "14       1  \n",
       "15       1  \n",
       "16       1  \n",
       "17       1  \n",
       "18       1  \n",
       "19       1  \n",
       "20       1  \n",
       "21       1  \n",
       "22       1  \n",
       "23       1  \n",
       "24       1  \n",
       "25       1  \n",
       "26       1  \n",
       "27       1  \n",
       "28       1  \n",
       "29       1  "
      ]
     },
     "execution_count": 619,
     "metadata": {},
     "output_type": "execute_result"
    }
   ],
   "source": [
    "df_2017_mob"
   ]
  },
  {
   "cell_type": "code",
   "execution_count": 562,
   "metadata": {},
   "outputs": [],
   "source": [
    "pd.options.display.max_colwidth = 500"
   ]
  },
  {
   "cell_type": "code",
   "execution_count": 620,
   "metadata": {},
   "outputs": [
    {
     "name": "stderr",
     "output_type": "stream",
     "text": [
      "C:\\Users\\HP\\anaconda3\\lib\\site-packages\\ipykernel_launcher.py:4: SettingWithCopyWarning: \n",
      "A value is trying to be set on a copy of a slice from a DataFrame.\n",
      "Try using .loc[row_indexer,col_indexer] = value instead\n",
      "\n",
      "See the caveats in the documentation: https://pandas.pydata.org/pandas-docs/stable/user_guide/indexing.html#returning-a-view-versus-a-copy\n",
      "  after removing the cwd from sys.path.\n",
      "C:\\Users\\HP\\anaconda3\\lib\\site-packages\\ipykernel_launcher.py:6: SettingWithCopyWarning: \n",
      "A value is trying to be set on a copy of a slice from a DataFrame.\n",
      "Try using .loc[row_indexer,col_indexer] = value instead\n",
      "\n",
      "See the caveats in the documentation: https://pandas.pydata.org/pandas-docs/stable/user_guide/indexing.html#returning-a-view-versus-a-copy\n",
      "  \n"
     ]
    },
    {
     "data": {
      "text/plain": [
       "0    how to improve accuracy of tensorflow camera demo on ios for retrained graph\n",
       "1                                      how can i use tensorflow with react-native\n",
       "2                                          machine learning libraries for android\n",
       "3            same tensorflow model giving different results on android and python\n",
       "4                               deep learning for face detection in mobile device\n",
       "Name: Title, dtype: object"
      ]
     },
     "execution_count": 620,
     "metadata": {},
     "output_type": "execute_result"
    }
   ],
   "source": [
    "# Load the regular expression library\n",
    "import re\n",
    "# Remove punctuation\n",
    "df_2017_mob['Title'] = df_2017_mob['Title'].map(lambda x: re.sub('[,\\.!?]', '', x))\n",
    "# Convert the titles to lowercase\n",
    "df_2017_mob['Title'] = df_2017_mob['Title'].map(lambda x: x.lower())\n",
    "# Print out the first rows of papers\n",
    "df_2017_mob['Title'].head()"
   ]
  },
  {
   "cell_type": "code",
   "execution_count": 621,
   "metadata": {},
   "outputs": [
    {
     "data": {
      "image/png": "[encoded data removed]",
      "text/plain": [
       "<PIL.Image.Image image mode=RGB size=400x200 at 0x1D16632FD48>"
      ]
     },
     "execution_count": 621,
     "metadata": {},
     "output_type": "execute_result"
    }
   ],
   "source": [
    "# Import the wordcloud library\n",
    "from wordcloud import WordCloud\n",
    "# Join the different processed titles together.\n",
    "long_string = ','.join(list(df_2017_mob['Title'].values))\n",
    "# Create a WordCloud object\n",
    "wordcloud = WordCloud(background_color=\"white\", max_words=5000, contour_width=3, contour_color='steelblue')\n",
    "# Generate a word cloud\n",
    "wordcloud.generate(long_string)\n",
    "# Visualize the word cloud\n",
    "wordcloud.to_image()"
   ]
  },
  {
   "cell_type": "code",
   "execution_count": 622,
   "metadata": {},
   "outputs": [
    {
     "data": {
      "image/png": "[encoded data removed]",
      "text/plain": [
       "<Figure size 1080x667.491 with 1 Axes>"
      ]
     },
     "metadata": {
      "needs_background": "light"
     },
     "output_type": "display_data"
    }
   ],
   "source": [
    "# Load the library with the CountVectorizer method\n",
    "from sklearn.feature_extraction.text import CountVectorizer\n",
    "import numpy as np\n",
    "import matplotlib.pyplot as plt\n",
    "import seaborn as sns\n",
    "sns.set_style('whitegrid')\n",
    "%matplotlib inline\n",
    "# Helper function\n",
    "def plot_10_most_common_words(count_data, count_vectorizer):\n",
    "    import matplotlib.pyplot as plt\n",
    "    words = count_vectorizer.get_feature_names()\n",
    "    total_counts = np.zeros(len(words))\n",
    "    for t in count_data:\n",
    "        total_counts+=t.toarray()[0]\n",
    "    \n",
    "    count_dict = (zip(words, total_counts))\n",
    "    count_dict = sorted(count_dict, key=lambda x:x[1], reverse=True)[0:20]\n",
    "    words = [w[0] for w in count_dict]\n",
    "    counts = [w[1] for w in count_dict]\n",
    "    x_pos = np.arange(len(words)) \n",
    "    \n",
    "    plt.figure(2, figsize=(15, 15/1.6180))\n",
    "    plt.subplot(title='10 most common words')\n",
    "    sns.set_context(\"notebook\", font_scale=1.25, rc={\"lines.linewidth\": 2.5})\n",
    "    sns.barplot(x_pos, counts, palette='husl')\n",
    "    plt.xticks(x_pos, words, rotation=90) \n",
    "    plt.xlabel('words')\n",
    "    plt.ylabel('counts')\n",
    "    plt.show()\n",
    "# Initialise the count vectorizer with the English stop words\n",
    "count_vectorizer = CountVectorizer(stop_words='english')\n",
    "# Fit and transform the processed titles\n",
    "count_data = count_vectorizer.fit_transform(df_2017_mob['Title'])\n",
    "# Visualise the 10 most common words\n",
    "plot_10_most_common_words(count_data, count_vectorizer)"
   ]
  },
  {
   "cell_type": "code",
   "execution_count": 623,
   "metadata": {},
   "outputs": [
    {
     "name": "stdout",
     "output_type": "stream",
     "text": [
      "Topics found via LDA:\n",
      "\n",
      "Topic #0:\n",
      "quot android machine learning studio using java error kind algorithm\n",
      "\n",
      "Topic #1:\n",
      "coordinate quot android world sensors vs frame apks define duplicate\n",
      "\n",
      "Topic #2:\n",
      "android opencv recognize model pb keras trained file importing specific\n",
      "\n",
      "Topic #3:\n",
      "tensorflow learning mobile native use detection device demo accuracy ios\n",
      "\n",
      "Topic #4:\n",
      "android vision image api error tensorflow mobile lib running python\n"
     ]
    }
   ],
   "source": [
    "import warnings\n",
    "warnings.simplefilter(\"ignore\", DeprecationWarning)\n",
    "# Load the LDA model from sk-learn\n",
    "from sklearn.decomposition import LatentDirichletAllocation as LDA\n",
    " \n",
    "# Helper function\n",
    "def print_topics(model, count_vectorizer, n_top_words):\n",
    "    words = count_vectorizer.get_feature_names()\n",
    "    for topic_idx, topic in enumerate(model.components_):\n",
    "        print(\"\\nTopic #%d:\" % topic_idx)\n",
    "        print(\" \".join([words[i]\n",
    "                        for i in topic.argsort()[:-n_top_words - 1:-1]]))\n",
    "        \n",
    "# Tweak the two parameters below\n",
    "number_topics = 5\n",
    "number_words = 10\n",
    "# Create and fit the LDA model\n",
    "lda = LDA(n_components=number_topics, n_jobs=-1)\n",
    "lda.fit(count_data)\n",
    "# Print the topics found by the LDA model\n",
    "print(\"Topics found via LDA:\")\n",
    "print_topics(lda, count_vectorizer, number_words)"
   ]
  },
  {
   "cell_type": "code",
   "execution_count": 624,
   "metadata": {},
   "outputs": [
    {
     "data": {
      "text/html": [
       "\n",
       "<link rel=\"stylesheet\" type=\"text/css\" href=\"https://cdn.rawgit.com/bmabey/pyLDAvis/files/ldavis.v1.0.0.css\">\n",
       "\n",
       "\n",
       "<div id=\"ldavis_el590019988717000408286947248\"></div>\n",
       "<script type=\"text/javascript\">\n",
       "\n",
       "var ldavis_el590019988717000408286947248_data = {\"mdsDat\": {\"x\": [-0.13391753460136716, 0.029461480997335726, 0.10381574515519254, -0.03169114786854374, 0.03233145631738275], \"y\": [-0.014905052054904838, -0.05777067234252854, 0.0463746126349052, 0.09307347846387554, -0.06677236670134735], \"topics\": [1, 2, 3, 4, 5], \"cluster\": [1, 1, 1, 1, 1], \"Freq\": [37.81502162106419, 19.163928206352722, 18.140523810950516, 12.894396313091178, 11.986130048541392]}, \"tinfo\": {\"Term\": [\"android\", \"tensorflow\", \"quot\", \"coordinate\", \"detection\", \"device\", \"use\", \"demo\", \"accuracy\", \"ios\", \"improve\", \"graph\", \"retrained\", \"camera\", \"deep\", \"face\", \"react\", \"native\", \"pb\", \"importing\", \"file\", \"keras\", \"trained\", \"specific\", \"objects\", \"neura\", \"sdk\", \"implementation\", \"downscaling\", \"bitmap\", \"vision\", \"image\", \"api\", \"lib\", \"running\", \"python\", \"error\", \"app\", \"sensor\", \"train\", \"patterns\", \"run\", \"javaniobufferoverflowexception\", \"time\", \"difference\", \"cloud\", \"google\", \"load\", \"imread\", \"39\", \"doesn\", \"results\", \"giving\", \"different\", \"grt\", \"import\", \"number\", \"digit\", \"separate\", \"script\", \"android\", \"model\", \"tensorflow\", \"mobile\", \"slept\", \"algorithm\", \"determine\", \"user\", \"kind\", \"fitbit\", \"javalangclassnotfoundexception\", \"weka\", \"wekacorenominalattributeinfo\", \"updated\", \"fly\", \"models\", \"apps\", \"purposes\", \"external\", \"classifier\", \"kazakh\", \"speech\", \"recognition\", \"quot\", \"use\", \"java\", \"studio\", \"using\", \"machine\", \"learning\", \"mobile\", \"error\", \"tensorflow\", \"android\", \"coordinate\", \"sensors\", \"frame\", \"world\", \"vs\", \"apks\", \"define\", \"duplicate\", \"virtual\", \"assistant\", \"classification\", \"query\", \"alphanumerics\", \"handwritten\", \"images\", \"natural\", \"data\", \"learn\", \"tensoflow\", \"unstructured\", \"libraries\", \"quot\", \"device\", \"detection\", \"java\", \"machine\", \"learning\", \"android\", \"react\", \"face\", \"deep\", \"network\", \"neural\", \"mobile\", \"custom\", \"file\", \"trained\", \"pb\", \"keras\", \"importing\", \"objects\", \"specific\", \"implementation\", \"sdk\", \"neura\", \"downscaling\", \"bitmap\", \"neural\", \"network\", \"opencv\", \"recognize\", \"model\", \"android\", \"react\", \"face\", \"deep\", \"retrained\", \"demo\", \"accuracy\", \"ios\", \"graph\", \"improve\", \"camera\", \"libraries\", \"unstructured\", \"learning\", \"custom\", \"keyboard\", \"mobile\", \"tensorflow\", \"machine\", \"use\", \"native\", \"error\", \"studio\", \"detection\", \"java\", \"improve\", \"accuracy\", \"demo\", \"retrained\", \"camera\", \"ios\", \"graph\", \"face\", \"deep\", \"react\", \"detection\", \"device\", \"use\", \"native\", \"tensorflow\", \"learning\", \"mobile\", \"bitmap\", \"downscaling\", \"neural\", \"network\", \"implementation\", \"neura\", \"sdk\", \"objects\", \"specific\", \"trained\", \"importing\", \"file\", \"keras\", \"android\", \"custom\", \"keyboard\", \"machine\", \"error\", \"opencv\", \"studio\", \"recognize\", \"model\", \"java\", \"using\", \"nn\"], \"Freq\": [11.0, 4.0, 2.0, 1.0, 1.0, 1.0, 1.0, 1.0, 1.0, 1.0, 1.0, 1.0, 1.0, 1.0, 1.0, 1.0, 1.0, 1.0, 1.0, 1.0, 1.0, 1.0, 1.0, 1.0, 1.0, 1.0, 1.0, 1.0, 1.0, 1.0, 2.2493199900230083, 2.2493186873307582, 2.2493185461753353, 1.5463996015332617, 1.5463994034199298, 1.5463977897615966, 2.249171668862712, 0.8434816355911681, 0.8434816355911681, 0.8434816355911681, 0.8434816355911681, 0.8434795745560808, 0.8434795745560808, 0.8434795745560808, 0.8434762809113788, 0.8434762809113788, 0.8434762809113788, 0.8434761290555798, 0.8434761290555798, 0.8434761290555798, 0.8434761290555798, 0.8434758614750987, 0.8434758614750987, 0.8434758614750987, 0.8434757042905838, 0.8434757042905838, 0.8434713780302449, 0.8434713780302449, 0.8434713780302449, 0.8434713777822569, 6.47042839940675, 1.5461677697768768, 2.2472854131798377, 1.5464338673188418, 0.7150122602371297, 0.7150122602371297, 0.7150122602371297, 0.7150122602371297, 0.7150122602371297, 0.7150122602371297, 0.7150120125583609, 0.7150120125583609, 0.7150120125583609, 0.7150061660815246, 0.7150061660815246, 0.7150061660815246, 0.7150061660815246, 0.7149988316195067, 0.7149988316195067, 0.7149988316195067, 0.7149986543494755, 0.7149986543494755, 0.7149986543494755, 1.3112302417918102, 0.71448227895209, 0.7152856161388363, 0.7155741146408563, 0.7154380631420091, 0.7159766494163493, 0.7159107994869494, 0.7138176992670113, 0.7151372651961019, 0.7132726441284478, 1.309179151644015, 1.2641177874056952, 0.6895124251769701, 0.6895124251769701, 0.6895124251769701, 0.6895124251769701, 0.6895097215469754, 0.6895097215469754, 0.6895097215469754, 0.6895073061757294, 0.6895073061757294, 0.6895073061757294, 0.6895073061757294, 0.6895072145613437, 0.6895072145613437, 0.6895072145613437, 0.6895072145613437, 0.6895028364037561, 0.6895028364037561, 0.6895028364037561, 0.6895028364037561, 0.6895004598280314, 1.2637687330955119, 0.6893366509617616, 0.689072949591101, 0.6892501198311465, 0.6890542715650408, 0.6883750699985572, 1.2586450089772905, 0.11492475043444082, 0.11492350291615687, 0.11492350291615687, 0.11492673253939956, 0.11492673253939956, 0.11493359698304909, 0.11493330877206503, 0.6012007712353551, 0.6012007712353551, 0.6012007712353551, 0.6012007712353551, 0.6012007712353551, 0.601198629671146, 0.601198629671146, 0.6011955300909829, 0.6011955300909829, 0.6011955300909829, 0.6011900101430939, 0.6011900101430939, 0.6011900093073307, 0.6011900093073307, 0.6017601680369198, 0.6015716537708207, 0.6013732379474556, 2.1078845128673653, 0.10020599215893222, 0.10020449438240076, 0.10020449438240076, 0.10020377045990049, 0.10020377045990049, 0.10020377045990049, 0.10020377045990049, 0.10020377045990049, 0.10020377045990049, 0.10020377045990049, 0.10020800321971823, 0.10020736130012355, 0.10021754223700631, 0.10021556813454616, 0.10021556813454616, 0.10021535484281414, 0.10021513447953839, 0.10021477137489555, 0.10021174252323985, 0.10021143560890931, 0.10021096022169634, 0.10020972107575461, 0.10020894394137814, 0.10020872333171428, 0.5996794218116465, 0.5996794218116465, 0.5996794218116465, 0.5996794218116465, 0.5996794218116465, 0.5996794218116465, 0.5996794218116465, 0.599676957668878, 0.599676957668878, 0.5996723757463276, 0.6000620046890545, 0.5998356694337981, 0.6001156784372934, 0.600253628937238, 1.1023312758461092, 0.6008175680849427, 0.6006645181997727, 0.09995436968598416, 0.09995436968598416, 0.09995436970939003, 0.09995436970939003, 0.09995255784175129, 0.09995255784175129, 0.09995255784175129, 0.09995151385038727, 0.09995151385038727, 0.09995083339787858, 0.09995083339787858, 0.09995083339787858, 0.09995083339787858, 0.09996574245676407, 0.09996181460643379, 0.09996181460643379, 0.09996127072467115, 0.09995747123653395, 0.0999572427196859, 0.09995626823442022, 0.09995609006140402, 0.09995561808733891, 0.09995503106992343, 0.09995489585801749, 0.09995452467236013], \"Total\": [11.0, 4.0, 2.0, 1.0, 1.0, 1.0, 1.0, 1.0, 1.0, 1.0, 1.0, 1.0, 1.0, 1.0, 1.0, 1.0, 1.0, 1.0, 1.0, 1.0, 1.0, 1.0, 1.0, 1.0, 1.0, 1.0, 1.0, 1.0, 1.0, 1.0, 2.6835792308388497, 2.6835789209342793, 2.6835788902530338, 1.980659008409571, 1.980658960441026, 1.9806585770306482, 3.27940660807951, 1.2777393867073163, 1.2777393867073163, 1.2777393867073163, 1.2777393867073163, 1.277738867563329, 1.277738867563329, 1.277738867563329, 1.277738100205027, 1.277738100205027, 1.277738100205027, 1.2777380530325688, 1.2777380530325688, 1.2777380530325688, 1.2777380530325688, 1.2777379853226047, 1.2777379853226047, 1.2777379853226047, 1.277737961354272, 1.277737961354272, 1.277736944607299, 1.277736944607299, 1.277736944607299, 1.2777369446770948, 11.246102815352184, 2.4816016644629544, 4.278037412476082, 3.076065036611489, 1.170675579084423, 1.170675579084423, 1.170675579084423, 1.170675579084423, 1.170675579084423, 1.170675579084423, 1.1706755842110292, 1.1706755842110292, 1.1706755842110292, 1.1706751035483272, 1.1706751035483272, 1.1706751035483272, 1.1706751035483272, 1.170674437374631, 1.170674437374631, 1.170674437374631, 1.1706744683694623, 1.1706744683694623, 1.1706744683694623, 2.9157475512890723, 1.670330660907276, 1.7452882925312925, 1.8734889894835105, 1.8735147183276062, 2.448123050788291, 2.947568987772812, 3.076065036611489, 3.27940660807951, 4.278037412476082, 11.246102815352184, 1.7240316391574209, 1.1494277971506832, 1.1494277971506832, 1.1494277971506832, 1.1494277971506832, 1.1494277339576062, 1.1494277339576062, 1.1494277339576062, 1.1494276135785388, 1.1494276135785388, 1.1494276135785388, 1.1494276135785388, 1.1494275809126744, 1.1494275809126744, 1.1494275809126744, 1.1494275809126744, 1.1494274272326328, 1.1494274272326328, 1.1494274272326328, 1.1494274272326328, 1.149427440841747, 2.9157475512890723, 1.649144055161085, 1.6491101593493123, 1.7452882925312925, 2.448123050788291, 2.947568987772812, 11.246102815352184, 1.0745647393525122, 1.0745640265440337, 1.0745640265440337, 1.0758360489073437, 1.0758360489073437, 3.076065036611489, 1.2777282257871783, 1.0758344444841534, 1.0758344444841534, 1.0758344444841534, 1.0758344444841534, 1.0758344444841534, 1.0758347756463118, 1.0758347756463118, 1.0758352221633665, 1.0758352221633665, 1.0758352221633665, 1.0758360485914935, 1.0758360485914935, 1.0758360489073437, 1.0758360489073437, 1.7785242752562567, 1.7786010713120994, 2.4816016644629544, 11.246102815352184, 1.0745647393525122, 1.0745640265440337, 1.0745640265440337, 1.0745636392162445, 1.0745636392162445, 1.0745636392162445, 1.0745636392162445, 1.0745636392162445, 1.0745636392162445, 1.0745636392162445, 1.149427440841747, 1.1494274272326328, 2.947568987772812, 1.2777282257871783, 1.2777282257871783, 3.076065036611489, 4.278037412476082, 2.448123050788291, 1.670330660907276, 1.7772443190745206, 3.27940660807951, 1.8734889894835105, 1.6491101593493123, 1.7452882925312925, 1.0745636392162445, 1.0745636392162445, 1.0745636392162445, 1.0745636392162445, 1.0745636392162445, 1.0745636392162445, 1.0745636392162445, 1.0745640265440337, 1.0745640265440337, 1.0745647393525122, 1.6491101593493123, 1.649144055161085, 1.670330660907276, 1.7772443190745206, 4.278037412476082, 2.947568987772812, 3.076065036611489, 1.0758360485914935, 1.0758360485914935, 1.0758360489073437, 1.0758360489073437, 1.0758352221633665, 1.0758352221633665, 1.0758352221633665, 1.0758347756463118, 1.0758347756463118, 1.0758344444841534, 1.0758344444841534, 1.0758344444841534, 1.0758344444841534, 11.246102815352184, 1.2777282257871783, 1.2777282257871783, 2.448123050788291, 3.27940660807951, 1.7785242752562567, 1.8734889894835105, 1.7786010713120994, 2.4816016644629544, 1.7452882925312925, 1.8735147183276062, 1.2777368653979628], \"Category\": [\"Default\", \"Default\", \"Default\", \"Default\", \"Default\", \"Default\", \"Default\", \"Default\", \"Default\", \"Default\", \"Default\", \"Default\", \"Default\", \"Default\", \"Default\", \"Default\", \"Default\", \"Default\", \"Default\", \"Default\", \"Default\", \"Default\", \"Default\", \"Default\", \"Default\", \"Default\", \"Default\", \"Default\", \"Default\", \"Default\", \"Topic1\", \"Topic1\", \"Topic1\", \"Topic1\", \"Topic1\", \"Topic1\", \"Topic1\", \"Topic1\", \"Topic1\", \"Topic1\", \"Topic1\", \"Topic1\", \"Topic1\", \"Topic1\", \"Topic1\", \"Topic1\", \"Topic1\", \"Topic1\", \"Topic1\", \"Topic1\", \"Topic1\", \"Topic1\", \"Topic1\", \"Topic1\", \"Topic1\", \"Topic1\", \"Topic1\", \"Topic1\", \"Topic1\", \"Topic1\", \"Topic1\", \"Topic1\", \"Topic1\", \"Topic1\", \"Topic2\", \"Topic2\", \"Topic2\", \"Topic2\", \"Topic2\", \"Topic2\", \"Topic2\", \"Topic2\", \"Topic2\", \"Topic2\", \"Topic2\", \"Topic2\", \"Topic2\", \"Topic2\", \"Topic2\", \"Topic2\", \"Topic2\", \"Topic2\", \"Topic2\", \"Topic2\", \"Topic2\", \"Topic2\", \"Topic2\", \"Topic2\", \"Topic2\", \"Topic2\", \"Topic2\", \"Topic2\", \"Topic2\", \"Topic2\", \"Topic3\", \"Topic3\", \"Topic3\", \"Topic3\", \"Topic3\", \"Topic3\", \"Topic3\", \"Topic3\", \"Topic3\", \"Topic3\", \"Topic3\", \"Topic3\", \"Topic3\", \"Topic3\", \"Topic3\", \"Topic3\", \"Topic3\", \"Topic3\", \"Topic3\", \"Topic3\", \"Topic3\", \"Topic3\", \"Topic3\", \"Topic3\", \"Topic3\", \"Topic3\", \"Topic3\", \"Topic3\", \"Topic3\", \"Topic3\", \"Topic3\", \"Topic3\", \"Topic3\", \"Topic3\", \"Topic3\", \"Topic4\", \"Topic4\", \"Topic4\", \"Topic4\", \"Topic4\", \"Topic4\", \"Topic4\", \"Topic4\", \"Topic4\", \"Topic4\", \"Topic4\", \"Topic4\", \"Topic4\", \"Topic4\", \"Topic4\", \"Topic4\", \"Topic4\", \"Topic4\", \"Topic4\", \"Topic4\", \"Topic4\", \"Topic4\", \"Topic4\", \"Topic4\", \"Topic4\", \"Topic4\", \"Topic4\", \"Topic4\", \"Topic4\", \"Topic4\", \"Topic4\", \"Topic4\", \"Topic4\", \"Topic4\", \"Topic4\", \"Topic4\", \"Topic4\", \"Topic4\", \"Topic4\", \"Topic4\", \"Topic4\", \"Topic4\", \"Topic5\", \"Topic5\", \"Topic5\", \"Topic5\", \"Topic5\", \"Topic5\", \"Topic5\", \"Topic5\", \"Topic5\", \"Topic5\", \"Topic5\", \"Topic5\", \"Topic5\", \"Topic5\", \"Topic5\", \"Topic5\", \"Topic5\", \"Topic5\", \"Topic5\", \"Topic5\", \"Topic5\", \"Topic5\", \"Topic5\", \"Topic5\", \"Topic5\", \"Topic5\", \"Topic5\", \"Topic5\", \"Topic5\", \"Topic5\", \"Topic5\", \"Topic5\", \"Topic5\", \"Topic5\", \"Topic5\", \"Topic5\", \"Topic5\", \"Topic5\", \"Topic5\", \"Topic5\", \"Topic5\", \"Topic5\"], \"logprob\": [30.0, 29.0, 28.0, 27.0, 26.0, 25.0, 24.0, 23.0, 22.0, 21.0, 20.0, 19.0, 18.0, 17.0, 16.0, 15.0, 14.0, 13.0, 12.0, 11.0, 10.0, 9.0, 8.0, 7.0, 6.0, 5.0, 4.0, 3.0, 2.0, 1.0, -3.3586, -3.3586, -3.3586, -3.7333, -3.7333, -3.7333, -3.3586, -4.3394, -4.3394, -4.3394, -4.3394, -4.3394, -4.3394, -4.3394, -4.3394, -4.3394, -4.3394, -4.3394, -4.3394, -4.3394, -4.3394, -4.3394, -4.3394, -4.3394, -4.3394, -4.3394, -4.3394, -4.3394, -4.3394, -4.3394, -2.302, -3.7334, -3.3595, -3.7332, -3.825, -3.825, -3.825, -3.825, -3.825, -3.825, -3.825, -3.825, -3.825, -3.825, -3.825, -3.825, -3.825, -3.825, -3.825, -3.825, -3.825, -3.825, -3.825, -3.2186, -3.8257, -3.8246, -3.8242, -3.8244, -3.8236, -3.8237, -3.8267, -3.8248, -3.8274, -3.2201, -3.2003, -3.8064, -3.8064, -3.8064, -3.8064, -3.8064, -3.8064, -3.8064, -3.8064, -3.8064, -3.8064, -3.8064, -3.8064, -3.8064, -3.8064, -3.8064, -3.8064, -3.8064, -3.8064, -3.8064, -3.8064, -3.2005, -3.8067, -3.807, -3.8068, -3.8071, -3.8081, -3.2046, -5.5981, -5.5981, -5.5981, -5.5981, -5.5981, -5.598, -5.598, -3.6021, -3.6021, -3.6021, -3.6021, -3.6021, -3.6021, -3.6021, -3.6021, -3.6021, -3.6021, -3.6021, -3.6021, -3.6021, -3.6021, -3.6012, -3.6015, -3.6018, -2.3476, -5.3938, -5.3938, -5.3938, -5.3938, -5.3938, -5.3938, -5.3938, -5.3938, -5.3938, -5.3938, -5.3938, -5.3938, -5.3937, -5.3937, -5.3937, -5.3937, -5.3937, -5.3937, -5.3938, -5.3938, -5.3938, -5.3938, -5.3938, -5.3938, -3.5316, -3.5316, -3.5316, -3.5316, -3.5316, -3.5316, -3.5316, -3.5316, -3.5316, -3.5316, -3.531, -3.5313, -3.5309, -3.5306, -2.9228, -3.5297, -3.53, -5.3233, -5.3233, -5.3233, -5.3233, -5.3233, -5.3233, -5.3233, -5.3233, -5.3233, -5.3233, -5.3233, -5.3233, -5.3233, -5.3232, -5.3232, -5.3232, -5.3232, -5.3233, -5.3233, -5.3233, -5.3233, -5.3233, -5.3233, -5.3233, -5.3233], \"loglift\": [30.0, 29.0, 28.0, 27.0, 26.0, 25.0, 24.0, 23.0, 22.0, 21.0, 20.0, 19.0, 18.0, 17.0, 16.0, 15.0, 14.0, 13.0, 12.0, 11.0, 10.0, 9.0, 8.0, 7.0, 6.0, 5.0, 4.0, 3.0, 2.0, 1.0, 0.7959, 0.7959, 0.7959, 0.725, 0.725, 0.725, 0.5954, 0.5572, 0.5572, 0.5572, 0.5572, 0.5572, 0.5572, 0.5572, 0.5571, 0.5571, 0.5571, 0.5571, 0.5571, 0.5571, 0.5571, 0.5571, 0.5571, 0.5571, 0.5571, 0.5571, 0.5571, 0.5571, 0.5571, 0.5571, 0.4197, 0.4993, 0.3287, 0.2848, 1.1591, 1.1591, 1.1591, 1.1591, 1.1591, 1.1591, 1.1591, 1.1591, 1.1591, 1.1591, 1.1591, 1.1591, 1.1591, 1.1591, 1.1591, 1.1591, 1.1591, 1.1591, 1.1591, 0.853, 0.8029, 0.7601, 0.6897, 0.6895, 0.4227, 0.237, 0.1914, 0.1292, -0.1392, -0.4985, 1.3967, 1.196, 1.196, 1.196, 1.196, 1.196, 1.196, 1.196, 1.196, 1.196, 1.196, 1.196, 1.196, 1.196, 1.196, 1.196, 1.196, 1.196, 1.196, 1.196, 1.196, 0.871, 0.8347, 0.8344, 0.778, 0.4393, 0.2526, -0.483, -0.5284, -0.5284, -0.5284, -0.5295, -0.5295, -1.58, -0.7015, 1.4665, 1.4665, 1.4665, 1.4665, 1.4665, 1.4665, 1.4665, 1.4664, 1.4664, 1.4664, 1.4664, 1.4664, 1.4664, 1.4664, 0.9647, 0.9643, 0.6309, 0.374, -0.3241, -0.3241, -0.3241, -0.3241, -0.3241, -0.3241, -0.3241, -0.3241, -0.3241, -0.3241, -0.3914, -0.3914, -1.333, -0.4971, -0.4971, -1.3757, -1.7056, -1.1474, -0.7651, -0.8272, -1.4398, -0.8799, -0.7524, -0.809, 1.5381, 1.5381, 1.5381, 1.5381, 1.5381, 1.5381, 1.5381, 1.5381, 1.5381, 1.5381, 1.1105, 1.1101, 1.0978, 1.036, 0.7654, 0.531, 0.4881, -0.2547, -0.2547, -0.2547, -0.2547, -0.2547, -0.2547, -0.2547, -0.2547, -0.2547, -0.2548, -0.2548, -0.2548, -0.2548, -2.6015, -0.4266, -0.4266, -1.0769, -1.3693, -0.7574, -0.8094, -0.7574, -1.0905, -0.7385, -0.8094, -0.4267]}, \"token.table\": {\"Topic\": [1, 5, 2, 3, 1, 2, 3, 4, 1, 3, 1, 2, 3, 4, 5, 3, 2, 1, 3, 1, 3, 5, 3, 5, 3, 5, 2, 3, 5, 1, 1, 1, 1, 4, 3, 1, 2, 2, 5, 4, 2, 2, 3, 1, 1, 5, 1, 3, 1, 3, 4, 1, 4, 5, 1, 5, 2, 3, 2, 1, 2, 4, 1, 2, 3, 1, 2, 3, 5, 1, 3, 1, 1, 2, 3, 1, 2, 5, 1, 4, 2, 1, 5, 3, 4, 4, 4, 1, 1, 4, 1, 4, 1, 4, 2, 1, 3, 2, 3, 5, 2, 1, 4, 1, 5, 1, 1, 1, 4, 1, 3, 1, 2, 4, 2, 1, 2, 3, 1, 2, 5, 1, 1, 4, 3, 2, 2, 5, 2, 1, 2, 3, 1, 3, 2, 2, 3], \"Freq\": [0.7826330268763707, 0.9306103086917876, 0.8542076198275981, 0.8699982640106607, 0.5335181527781634, 0.08891969212969389, 0.08891969212969389, 0.17783938425938778, 0.7452734135240647, 0.8699981481714295, 0.7826322099821625, 0.8542079668124748, 0.8699982392859673, 0.9295096602397924, 0.9306103086917876, 0.8699982392859673, 0.8542084529005455, 0.7826329979825593, 0.5800357587919477, 0.7826390462525187, 0.8699983803306356, 0.9306099732522749, 0.8699981481714295, 0.9306103086917876, 0.6063876293106878, 0.6063876293106878, 0.8542076198275981, 0.6063751658749557, 0.6063751658749557, 0.7826329979825593, 0.7826330683497046, 0.7826337058034595, 0.7826330268763707, 0.9295096602397924, 0.8699981481714295, 0.609866429820742, 0.304933214910371, 0.8542084529005455, 0.9306099732522749, 0.9295110461716859, 0.8542076198275981, 0.8542079668124748, 0.8699981003407958, 0.7826330683497046, 0.7826329979825593, 0.9306103086917876, 0.7826330830306567, 0.8699982640106607, 0.745273405003385, 0.8699982640106607, 0.9295103742644979, 0.7826330830306567, 0.9295110461716859, 0.9306103086917876, 0.7826330268763707, 0.9306103086917876, 0.5729712416449217, 0.5729712416449217, 0.8542076160868639, 0.7826325279648243, 0.854208430284483, 0.9295110461716859, 0.7826390462525187, 0.8542076198275981, 0.8699983803306356, 0.3392626276596843, 0.3392626276596843, 0.3392626276596843, 0.3392626276596843, 1.0097649274854026, 0.8699983700299354, 0.7826330268763707, 0.4084761996248521, 0.4084761996248521, 0.4084761996248521, 0.6501813115769316, 0.3250906557884658, 0.3250906557884658, 0.8059311164400036, 0.4029655582200018, 0.8542079668124748, 0.5626688403318337, 0.5626688403318337, 0.8699982640106607, 0.9295096599669016, 0.9295103742644979, 0.9295096599669016, 0.7826337543204099, 0.7826337058034595, 0.9295107600507209, 0.5622639026706094, 0.5622639026706094, 0.7826322099821625, 0.9295110461716859, 0.8542084529005455, 1.0097651474078626, 0.8699982392859673, 0.3429652198654486, 0.3429652198654486, 0.9306093559356491, 0.854208430284483, 0.562239625360332, 0.562239625360332, 0.7826330683497046, 0.9306103086917876, 0.7826325279648243, 1.009764951940372, 0.7826337057607085, 0.9295103742644979, 0.7826322099821625, 0.8699981003407958, 0.7826337058034595, 0.8542076198275981, 0.9295107600507209, 0.854208430284483, 0.5337634785223281, 0.5337634785223281, 0.8699983803306356, 0.46750409292059497, 0.23375204646029749, 0.23375204646029749, 0.7826325279648243, 0.7826322099821625, 0.9295110461716859, 0.8699983803306356, 0.8542079668124748, 0.5986838554809432, 0.5986838554809432, 0.8542076198275981, 0.5337561483865205, 0.5337561483865205, 0.8699982392859673, 0.7452733189378677, 0.8699981003407958, 0.8542076160868639, 0.8542076160868639, 0.8699981003407958], \"Term\": [\"39\", \"accuracy\", \"algorithm\", \"alphanumerics\", \"android\", \"android\", \"android\", \"android\", \"api\", \"apks\", \"app\", \"apps\", \"assistant\", \"bitmap\", \"camera\", \"classification\", \"classifier\", \"cloud\", \"coordinate\", \"custom\", \"data\", \"deep\", \"define\", \"demo\", \"detection\", \"detection\", \"determine\", \"device\", \"device\", \"difference\", \"different\", \"digit\", \"doesn\", \"downscaling\", \"duplicate\", \"error\", \"error\", \"external\", \"face\", \"file\", \"fitbit\", \"fly\", \"frame\", \"giving\", \"google\", \"graph\", \"grt\", \"handwritten\", \"image\", \"images\", \"implementation\", \"import\", \"importing\", \"improve\", \"imread\", \"ios\", \"java\", \"java\", \"javalangclassnotfoundexception\", \"javaniobufferoverflowexception\", \"kazakh\", \"keras\", \"keyboard\", \"kind\", \"learn\", \"learning\", \"learning\", \"learning\", \"learning\", \"lib\", \"libraries\", \"load\", \"machine\", \"machine\", \"machine\", \"mobile\", \"mobile\", \"mobile\", \"model\", \"model\", \"models\", \"native\", \"native\", \"natural\", \"network\", \"neura\", \"neural\", \"nn\", \"number\", \"objects\", \"opencv\", \"opencv\", \"patterns\", \"pb\", \"purposes\", \"python\", \"query\", \"quot\", \"quot\", \"react\", \"recognition\", \"recognize\", \"recognize\", \"results\", \"retrained\", \"run\", \"running\", \"script\", \"sdk\", \"sensor\", \"sensors\", \"separate\", \"slept\", \"specific\", \"speech\", \"studio\", \"studio\", \"tensoflow\", \"tensorflow\", \"tensorflow\", \"tensorflow\", \"time\", \"train\", \"trained\", \"unstructured\", \"updated\", \"use\", \"use\", \"user\", \"using\", \"using\", \"virtual\", \"vision\", \"vs\", \"weka\", \"wekacorenominalattributeinfo\", \"world\"]}, \"R\": 30, \"lambda.step\": 0.01, \"plot.opts\": {\"xlab\": \"PC1\", \"ylab\": \"PC2\"}, \"topic.order\": [5, 1, 2, 3, 4]};\n",
       "\n",
       "function LDAvis_load_lib(url, callback){\n",
       "  var s = document.createElement('script');\n",
       "  s.src = url;\n",
       "  s.async = true;\n",
       "  s.onreadystatechange = s.onload = callback;\n",
       "  s.onerror = function(){console.warn(\"failed to load library \" + url);};\n",
       "  document.getElementsByTagName(\"head\")[0].appendChild(s);\n",
       "}\n",
       "\n",
       "if(typeof(LDAvis) !== \"undefined\"){\n",
       "   // already loaded: just create the visualization\n",
       "   !function(LDAvis){\n",
       "       new LDAvis(\"#\" + \"ldavis_el590019988717000408286947248\", ldavis_el590019988717000408286947248_data);\n",
       "   }(LDAvis);\n",
       "}else if(typeof define === \"function\" && define.amd){\n",
       "   // require.js is available: use it to load d3/LDAvis\n",
       "   require.config({paths: {d3: \"https://cdnjs.cloudflare.com/ajax/libs/d3/3.5.5/d3.min\"}});\n",
       "   require([\"d3\"], function(d3){\n",
       "      window.d3 = d3;\n",
       "      LDAvis_load_lib(\"https://cdn.rawgit.com/bmabey/pyLDAvis/files/ldavis.v1.0.0.js\", function(){\n",
       "        new LDAvis(\"#\" + \"ldavis_el590019988717000408286947248\", ldavis_el590019988717000408286947248_data);\n",
       "      });\n",
       "    });\n",
       "}else{\n",
       "    // require.js not available: dynamically load d3 & LDAvis\n",
       "    LDAvis_load_lib(\"https://cdnjs.cloudflare.com/ajax/libs/d3/3.5.5/d3.min.js\", function(){\n",
       "         LDAvis_load_lib(\"https://cdn.rawgit.com/bmabey/pyLDAvis/files/ldavis.v1.0.0.js\", function(){\n",
       "                 new LDAvis(\"#\" + \"ldavis_el590019988717000408286947248\", ldavis_el590019988717000408286947248_data);\n",
       "            })\n",
       "         });\n",
       "}\n",
       "</script>"
      ],
      "text/plain": [
       "<IPython.core.display.HTML object>"
      ]
     },
     "execution_count": 624,
     "metadata": {},
     "output_type": "execute_result"
    }
   ],
   "source": [
    "import pyLDAvis\n",
    "import pyLDAvis.sklearn\n",
    "\n",
    "#enable the interactive display\n",
    "pyLDAvis.enable_notebook()\n",
    "\n",
    "#this is by far the easiest way to load a pre-trained sklearn lda model onto pyLDAvis\n",
    "#there are other means of using this visible on pyLDAvis' main repo\n",
    "\n",
    "display_data = pyLDAvis.sklearn.prepare(lda, #our pre-trained LDA model\n",
    "                         count_data, #this gives us our document-term matrix\n",
    "                        count_vectorizer) #the vectoriser object\n",
    "                        \n",
    "pyLDAvis.display(display_data) "
   ]
  },
  {
   "cell_type": "code",
   "execution_count": 628,
   "metadata": {},
   "outputs": [
    {
     "name": "stderr",
     "output_type": "stream",
     "text": [
      "C:\\Users\\HP\\anaconda3\\lib\\site-packages\\ipykernel_launcher.py:8: SettingWithCopyWarning: \n",
      "A value is trying to be set on a copy of a slice from a DataFrame.\n",
      "Try using .loc[row_indexer,col_indexer] = value instead\n",
      "\n",
      "See the caveats in the documentation: https://pandas.pydata.org/pandas-docs/stable/user_guide/indexing.html#returning-a-view-versus-a-copy\n",
      "  \n"
     ]
    }
   ],
   "source": [
    "l=len(df_2017_mob)\n",
    "tt=[]\n",
    "for i in range (l):\n",
    "    if \"tensorflow\" in df_2017_mob['Title'][i]:\n",
    "        tt.append(1)\n",
    "    else:\n",
    "        tt.append(0)\n",
    "df_2017_mob[\"tag_tens\"]=tt"
   ]
  },
  {
   "cell_type": "code",
   "execution_count": 629,
   "metadata": {},
   "outputs": [],
   "source": [
    "df_2017_mob_tens=df_2017_mob[df_2017_mob[\"tag_tens\"]==1]"
   ]
  },
  {
   "cell_type": "code",
   "execution_count": 630,
   "metadata": {},
   "outputs": [
    {
     "data": {
      "text/html": [
       "<div>\n",
       "<style scoped>\n",
       "    .dataframe tbody tr th:only-of-type {\n",
       "        vertical-align: middle;\n",
       "    }\n",
       "\n",
       "    .dataframe tbody tr th {\n",
       "        vertical-align: top;\n",
       "    }\n",
       "\n",
       "    .dataframe thead th {\n",
       "        text-align: right;\n",
       "    }\n",
       "</style>\n",
       "<table border=\"1\" class=\"dataframe\">\n",
       "  <thead>\n",
       "    <tr style=\"text-align: right;\">\n",
       "      <th></th>\n",
       "      <th>Title</th>\n",
       "      <th>Body</th>\n",
       "      <th>Tags</th>\n",
       "      <th>tag_up</th>\n",
       "      <th>tag_tens</th>\n",
       "    </tr>\n",
       "  </thead>\n",
       "  <tbody>\n",
       "    <tr>\n",
       "      <th>0</th>\n",
       "      <td>how to improve accuracy of tensorflow camera demo on ios for retrained graph</td>\n",
       "      <td>I have an Android app that was modeled after the Tensorflow Android demo for classifying images,\\n\\nhttps://github.com/tensorflow/tensorflow/tree/master/tensorflow/examples/android\\n\\nThe original app uses a tensorflow graph (.pb) file to classify a generic set of images from Inception v3 (I think)\\n\\nI then trained my own graph for my own images following the instruction in Tensorflow for Poets blog,\\n\\nhttps://petewarden.com/2016/02/28/tensorflow-for-poets/\\n\\nand this worked in the Androi...</td>\n",
       "      <td>[android, ios, objective-c, machine-learning, tensorflow]</td>\n",
       "      <td>1</td>\n",
       "      <td>1</td>\n",
       "    </tr>\n",
       "    <tr>\n",
       "      <th>1</th>\n",
       "      <td>how can i use tensorflow with react-native</td>\n",
       "      <td>I've looked around the web and cant seem to find a way to use React Native with TensorFlow.\\nI don't think TF supports react-native (at least not officially) integration but i hope someone in the community has found a way.\\nHow can one use TensorFlow in a React Native project?\\nThanks.\\n\\nCONTRIBUTOR UPDATE: Now is possible\\n\\n</td>\n",
       "      <td>[android, ios, machine-learning, react-native, tensorflow]</td>\n",
       "      <td>1</td>\n",
       "      <td>1</td>\n",
       "    </tr>\n",
       "    <tr>\n",
       "      <th>3</th>\n",
       "      <td>same tensorflow model giving different results on android and python</td>\n",
       "      <td>I am trying to run a Tensorflow model on my Android application, but the same trained model gives different results (wrong inference) compared to when it is run on Python on desktop.\\n\\nThe model is a simple sequential CNN to recognize characters, much like this number plate recognition network, minus the windowing, as my model has the characters already cropped into place.\\n\\nI have:\\n\\n\\nModel saved in protobuf (.pb) file - modeled and trained in Keras on Python/Linux + GPU\\nThe inference ...</td>\n",
       "      <td>[android, python, machine-learning, tensorflow]</td>\n",
       "      <td>1</td>\n",
       "      <td>1</td>\n",
       "    </tr>\n",
       "    <tr>\n",
       "      <th>8</th>\n",
       "      <td>javaniobufferoverflowexception run-time error when running tensorflow model in android</td>\n",
       "      <td>For some reason, I am getting this error whenever I increase my input image size for inference in android (for image classification):\\n\\n Process: com.example.android.androidevaluateimagenet, PID: 31064\\n java.nio.BufferOverflowException\\n     at java.nio.FloatBuffer.put(FloatBuffer.java:444)\\n     at org.tensorflow.Tensor.writeTo(Tensor.java:390)\\n     at org.tensorflow.contrib.android.TensorFlowInferenceInterface.fetch(TensorFlowInferenceInterface.java:338)\\n     at org.tensorflow.contrib....</td>\n",
       "      <td>[java, android, machine-learning, tensorflow, computer-vision]</td>\n",
       "      <td>1</td>\n",
       "      <td>1</td>\n",
       "    </tr>\n",
       "    <tr>\n",
       "      <th>16</th>\n",
       "      <td>can tensorflow models be updated on the fly for android apps</td>\n",
       "      <td>We have a requirement where models need to be updated on the flow . We could use some API to get the latest models . Is updating models possible when we use TensorFlow for android . If not are there any suggested alternatives ?\\n</td>\n",
       "      <td>[android, machine-learning, tensorflow]</td>\n",
       "      <td>1</td>\n",
       "      <td>1</td>\n",
       "    </tr>\n",
       "    <tr>\n",
       "      <th>24</th>\n",
       "      <td>tensorflow error on android</td>\n",
       "      <td>I am learning Tensorflow and following a tutorial I was able to make a custom model to run it in an Android App but I am having problems with it. I have the following code:\\n\\n    public void testModel(Context ctx) {\\n        String model_file = \"file:///android_asset/model_graph.pb\";\\n        int[] result = new int[2];\\n        float[] input = new float[]{0.0F, 1.0F, 0.0F, 1.0F, 1.0F, 0.0F, 0.0F, 1.0F, 0.0F, 1.0F, 0.0F, 1.0F, 0.0F, 1.0F, 1.0F, 0.0F, 0.0F, 0.0F, 0.0F, 1.0F, 1.0F, 0.0F, 1.0F,...</td>\n",
       "      <td>[android, machine-learning, tensorflow]</td>\n",
       "      <td>1</td>\n",
       "      <td>1</td>\n",
       "    </tr>\n",
       "  </tbody>\n",
       "</table>\n",
       "</div>"
      ],
      "text/plain": [
       "                                                                                     Title  \\\n",
       "0             how to improve accuracy of tensorflow camera demo on ios for retrained graph   \n",
       "1                                               how can i use tensorflow with react-native   \n",
       "3                     same tensorflow model giving different results on android and python   \n",
       "8   javaniobufferoverflowexception run-time error when running tensorflow model in android   \n",
       "16                            can tensorflow models be updated on the fly for android apps   \n",
       "24                                                             tensorflow error on android   \n",
       "\n",
       "                                                                                                                                                                                                                                                                                                                                                                                                                                                                                                                   Body  \\\n",
       "0   I have an Android app that was modeled after the Tensorflow Android demo for classifying images,\\n\\nhttps://github.com/tensorflow/tensorflow/tree/master/tensorflow/examples/android\\n\\nThe original app uses a tensorflow graph (.pb) file to classify a generic set of images from Inception v3 (I think)\\n\\nI then trained my own graph for my own images following the instruction in Tensorflow for Poets blog,\\n\\nhttps://petewarden.com/2016/02/28/tensorflow-for-poets/\\n\\nand this worked in the Androi...   \n",
       "1                                                                                                                                                                             I've looked around the web and cant seem to find a way to use React Native with TensorFlow.\\nI don't think TF supports react-native (at least not officially) integration but i hope someone in the community has found a way.\\nHow can one use TensorFlow in a React Native project?\\nThanks.\\n\\nCONTRIBUTOR UPDATE: Now is possible\\n\\n   \n",
       "3   I am trying to run a Tensorflow model on my Android application, but the same trained model gives different results (wrong inference) compared to when it is run on Python on desktop.\\n\\nThe model is a simple sequential CNN to recognize characters, much like this number plate recognition network, minus the windowing, as my model has the characters already cropped into place.\\n\\nI have:\\n\\n\\nModel saved in protobuf (.pb) file - modeled and trained in Keras on Python/Linux + GPU\\nThe inference ...   \n",
       "8   For some reason, I am getting this error whenever I increase my input image size for inference in android (for image classification):\\n\\n Process: com.example.android.androidevaluateimagenet, PID: 31064\\n java.nio.BufferOverflowException\\n     at java.nio.FloatBuffer.put(FloatBuffer.java:444)\\n     at org.tensorflow.Tensor.writeTo(Tensor.java:390)\\n     at org.tensorflow.contrib.android.TensorFlowInferenceInterface.fetch(TensorFlowInferenceInterface.java:338)\\n     at org.tensorflow.contrib....   \n",
       "16                                                                                                                                                                                                                                                                                We have a requirement where models need to be updated on the flow . We could use some API to get the latest models . Is updating models possible when we use TensorFlow for android . If not are there any suggested alternatives ?\\n   \n",
       "24  I am learning Tensorflow and following a tutorial I was able to make a custom model to run it in an Android App but I am having problems with it. I have the following code:\\n\\n    public void testModel(Context ctx) {\\n        String model_file = \"file:///android_asset/model_graph.pb\";\\n        int[] result = new int[2];\\n        float[] input = new float[]{0.0F, 1.0F, 0.0F, 1.0F, 1.0F, 0.0F, 0.0F, 1.0F, 0.0F, 1.0F, 0.0F, 1.0F, 0.0F, 1.0F, 1.0F, 0.0F, 0.0F, 0.0F, 0.0F, 1.0F, 1.0F, 0.0F, 1.0F,...   \n",
       "\n",
       "                                                              Tags  tag_up  \\\n",
       "0        [android, ios, objective-c, machine-learning, tensorflow]       1   \n",
       "1       [android, ios, machine-learning, react-native, tensorflow]       1   \n",
       "3                  [android, python, machine-learning, tensorflow]       1   \n",
       "8   [java, android, machine-learning, tensorflow, computer-vision]       1   \n",
       "16                         [android, machine-learning, tensorflow]       1   \n",
       "24                         [android, machine-learning, tensorflow]       1   \n",
       "\n",
       "    tag_tens  \n",
       "0          1  \n",
       "1          1  \n",
       "3          1  \n",
       "8          1  \n",
       "16         1  \n",
       "24         1  "
      ]
     },
     "execution_count": 630,
     "metadata": {},
     "output_type": "execute_result"
    }
   ],
   "source": [
    "df_2017_mob_tens"
   ]
  },
  {
   "cell_type": "code",
   "execution_count": 636,
   "metadata": {},
   "outputs": [
    {
     "name": "stderr",
     "output_type": "stream",
     "text": [
      "C:\\Users\\HP\\anaconda3\\lib\\site-packages\\ipykernel_launcher.py:8: SettingWithCopyWarning: \n",
      "A value is trying to be set on a copy of a slice from a DataFrame.\n",
      "Try using .loc[row_indexer,col_indexer] = value instead\n",
      "\n",
      "See the caveats in the documentation: https://pandas.pydata.org/pandas-docs/stable/user_guide/indexing.html#returning-a-view-versus-a-copy\n",
      "  \n"
     ]
    }
   ],
   "source": [
    "l=len(df_2017_mob)\n",
    "tt=[]\n",
    "for i in range (l):\n",
    "    if \"api\" in df_2017_mob['Title'][i]:\n",
    "        tt.append(1)\n",
    "    else:\n",
    "        tt.append(0)\n",
    "df_2017_mob[\"tag_tens\"]=tt"
   ]
  },
  {
   "cell_type": "code",
   "execution_count": 632,
   "metadata": {},
   "outputs": [],
   "source": [
    "df_2017_mob_tens=df_2017_mob[df_2017_mob[\"tag_tens\"]==1]"
   ]
  },
  {
   "cell_type": "code",
   "execution_count": 635,
   "metadata": {},
   "outputs": [
    {
     "data": {
      "text/html": [
       "<div>\n",
       "<style scoped>\n",
       "    .dataframe tbody tr th:only-of-type {\n",
       "        vertical-align: middle;\n",
       "    }\n",
       "\n",
       "    .dataframe tbody tr th {\n",
       "        vertical-align: top;\n",
       "    }\n",
       "\n",
       "    .dataframe thead th {\n",
       "        text-align: right;\n",
       "    }\n",
       "</style>\n",
       "<table border=\"1\" class=\"dataframe\">\n",
       "  <thead>\n",
       "    <tr style=\"text-align: right;\">\n",
       "      <th></th>\n",
       "      <th>Title</th>\n",
       "      <th>Body</th>\n",
       "      <th>Tags</th>\n",
       "      <th>tag_up</th>\n",
       "      <th>tag_tens</th>\n",
       "    </tr>\n",
       "  </thead>\n",
       "  <tbody>\n",
       "    <tr>\n",
       "      <th>5</th>\n",
       "      <td>what is the difference between google cloud vision api and mobile vision</td>\n",
       "      <td>I have been playing with cloud vision API. I did some label and facial detection. During this Google I/O, there is a session where they talked about mobile vision. I understand both the APIs are related to machine learning in Google Cloud. \\n\\nCan anyone explain (use-cases) when to use one over another? \\n\\nwhat sort of applications that we can build by using both ?\\n</td>\n",
       "      <td>[api, mobile, machine-learning, cloud, google-cloud-platform]</td>\n",
       "      <td>1</td>\n",
       "      <td>1</td>\n",
       "    </tr>\n",
       "    <tr>\n",
       "      <th>14</th>\n",
       "      <td>android mobile vision api and nn api</td>\n",
       "      <td>In Google I/O 2017, it introduced lots of technologies benefit to develop AI applications. \\n\\nBut I'm kind of confused to Mobile Vision API and NN API.\\n\\nAny relationship between them ? \\nMobile vision API was built on top of NN(Neural Network) API ? Or they're just two independent APIs ?  The NN API will be only called by Tensorflow lite and application will just face to TF-lite.\\n</td>\n",
       "      <td>[android, machine-learning, googleio]</td>\n",
       "      <td>1</td>\n",
       "      <td>1</td>\n",
       "    </tr>\n",
       "  </tbody>\n",
       "</table>\n",
       "</div>"
      ],
      "text/plain": [
       "                                                                       Title  \\\n",
       "5   what is the difference between google cloud vision api and mobile vision   \n",
       "14                                      android mobile vision api and nn api   \n",
       "\n",
       "                                                                                                                                                                                                                                                                                                                                                                                                   Body  \\\n",
       "5                    I have been playing with cloud vision API. I did some label and facial detection. During this Google I/O, there is a session where they talked about mobile vision. I understand both the APIs are related to machine learning in Google Cloud. \\n\\nCan anyone explain (use-cases) when to use one over another? \\n\\nwhat sort of applications that we can build by using both ?\\n   \n",
       "14  In Google I/O 2017, it introduced lots of technologies benefit to develop AI applications. \\n\\nBut I'm kind of confused to Mobile Vision API and NN API.\\n\\nAny relationship between them ? \\nMobile vision API was built on top of NN(Neural Network) API ? Or they're just two independent APIs ?  The NN API will be only called by Tensorflow lite and application will just face to TF-lite.\\n   \n",
       "\n",
       "                                                             Tags  tag_up  \\\n",
       "5   [api, mobile, machine-learning, cloud, google-cloud-platform]       1   \n",
       "14                          [android, machine-learning, googleio]       1   \n",
       "\n",
       "    tag_tens  \n",
       "5          1  \n",
       "14         1  "
      ]
     },
     "execution_count": 635,
     "metadata": {},
     "output_type": "execute_result"
    }
   ],
   "source": [
    "df_2017_mob_tens"
   ]
  },
  {
   "cell_type": "code",
   "execution_count": 612,
   "metadata": {},
   "outputs": [
    {
     "name": "stderr",
     "output_type": "stream",
     "text": [
      "C:\\Users\\HP\\anaconda3\\lib\\site-packages\\ipykernel_launcher.py:4: SettingWithCopyWarning: \n",
      "A value is trying to be set on a copy of a slice from a DataFrame.\n",
      "Try using .loc[row_indexer,col_indexer] = value instead\n",
      "\n",
      "See the caveats in the documentation: https://pandas.pydata.org/pandas-docs/stable/user_guide/indexing.html#returning-a-view-versus-a-copy\n",
      "  after removing the cwd from sys.path.\n",
      "C:\\Users\\HP\\anaconda3\\lib\\site-packages\\ipykernel_launcher.py:6: SettingWithCopyWarning: \n",
      "A value is trying to be set on a copy of a slice from a DataFrame.\n",
      "Try using .loc[row_indexer,col_indexer] = value instead\n",
      "\n",
      "See the caveats in the documentation: https://pandas.pydata.org/pandas-docs/stable/user_guide/indexing.html#returning-a-view-versus-a-copy\n",
      "  \n"
     ]
    },
    {
     "data": {
      "text/plain": [
       "60                how to improve accuracy of tensorflow camera demo on ios for retrained graph\n",
       "112                                                 how can i use tensorflow with react-native\n",
       "476                       same tensorflow model giving different results on android and python\n",
       "1573    javaniobufferoverflowexception run-time error when running tensorflow model in android\n",
       "2952                              can tensorflow models be updated on the fly for android apps\n",
       "Name: Title, dtype: object"
      ]
     },
     "execution_count": 612,
     "metadata": {},
     "output_type": "execute_result"
    }
   ],
   "source": [
    "# Load the regular expression library\n",
    "import re\n",
    "# Remove punctuation\n",
    "df_2017_mob_tens['Title'] = df_2017_mob_tens['Title'].map(lambda x: re.sub('[,\\.!?]', '', x))\n",
    "# Convert the titles to lowercase\n",
    "df_2017_mob_tens['Title'] = df_2017_mob_tens['Title'].map(lambda x: x.lower())\n",
    "# Print out the first rows of papers\n",
    "df_2017_mob_tens['Title'].head()"
   ]
  },
  {
   "cell_type": "code",
   "execution_count": 613,
   "metadata": {},
   "outputs": [
    {
     "data": {
      "image/png": "[encoded data removed]",
      "text/plain": [
       "<PIL.Image.Image image mode=RGB size=400x200 at 0x1D1645BD988>"
      ]
     },
     "execution_count": 613,
     "metadata": {},
     "output_type": "execute_result"
    }
   ],
   "source": [
    "# Import the wordcloud library\n",
    "from wordcloud import WordCloud\n",
    "# Join the different processed titles together.\n",
    "long_string = ','.join(list(df_2017_mob_tens['Title'].values))\n",
    "# Create a WordCloud object\n",
    "wordcloud = WordCloud(background_color=\"white\", max_words=5000, contour_width=3, contour_color='steelblue')\n",
    "# Generate a word cloud\n",
    "wordcloud.generate(long_string)\n",
    "# Visualize the word cloud\n",
    "wordcloud.to_image()"
   ]
  },
  {
   "cell_type": "code",
   "execution_count": 614,
   "metadata": {},
   "outputs": [
    {
     "data": {
      "image/png": "[encoded data removed]",
      "text/plain": [
       "<Figure size 1080x667.491 with 1 Axes>"
      ]
     },
     "metadata": {
      "needs_background": "light"
     },
     "output_type": "display_data"
    }
   ],
   "source": [
    "# Load the library with the CountVectorizer method\n",
    "from sklearn.feature_extraction.text import CountVectorizer\n",
    "import numpy as np\n",
    "import matplotlib.pyplot as plt\n",
    "import seaborn as sns\n",
    "sns.set_style('whitegrid')\n",
    "%matplotlib inline\n",
    "# Helper function\n",
    "def plot_10_most_common_words(count_data, count_vectorizer):\n",
    "    import matplotlib.pyplot as plt\n",
    "    words = count_vectorizer.get_feature_names()\n",
    "    total_counts = np.zeros(len(words))\n",
    "    for t in count_data:\n",
    "        total_counts+=t.toarray()[0]\n",
    "    \n",
    "    count_dict = (zip(words, total_counts))\n",
    "    count_dict = sorted(count_dict, key=lambda x:x[1], reverse=True)[0:20]\n",
    "    words = [w[0] for w in count_dict]\n",
    "    counts = [w[1] for w in count_dict]\n",
    "    x_pos = np.arange(len(words)) \n",
    "    \n",
    "    plt.figure(2, figsize=(15, 15/1.6180))\n",
    "    plt.subplot(title='10 most common words')\n",
    "    sns.set_context(\"notebook\", font_scale=1.25, rc={\"lines.linewidth\": 2.5})\n",
    "    sns.barplot(x_pos, counts, palette='husl')\n",
    "    plt.xticks(x_pos, words, rotation=90) \n",
    "    plt.xlabel('words')\n",
    "    plt.ylabel('counts')\n",
    "    plt.show()\n",
    "# Initialise the count vectorizer with the English stop words\n",
    "count_vectorizer = CountVectorizer(stop_words='english')\n",
    "# Fit and transform the processed titles\n",
    "count_data = count_vectorizer.fit_transform(df_2017_mob_tens['Title'])\n",
    "# Visualise the 10 most common words\n",
    "plot_10_most_common_words(count_data, count_vectorizer)"
   ]
  },
  {
   "cell_type": "code",
   "execution_count": 615,
   "metadata": {},
   "outputs": [
    {
     "name": "stdout",
     "output_type": "stream",
     "text": [
      "Topics found via LDA:\n",
      "\n",
      "Topic #0:\n",
      "tensorflow android model use native react error models apps updated\n",
      "\n",
      "Topic #1:\n",
      "tensorflow android different results giving python fly models apps updated\n",
      "\n",
      "Topic #2:\n",
      "error android tensorflow model javaniobufferoverflowexception time running run native use\n",
      "\n",
      "Topic #3:\n",
      "tensorflow accuracy camera demo graph retrained improve ios native use\n",
      "\n",
      "Topic #4:\n",
      "tensorflow android model use native react error models apps updated\n"
     ]
    }
   ],
   "source": [
    "import warnings\n",
    "warnings.simplefilter(\"ignore\", DeprecationWarning)\n",
    "# Load the LDA model from sk-learn\n",
    "from sklearn.decomposition import LatentDirichletAllocation as LDA\n",
    " \n",
    "# Helper function\n",
    "def print_topics(model, count_vectorizer, n_top_words):\n",
    "    words = count_vectorizer.get_feature_names()\n",
    "    for topic_idx, topic in enumerate(model.components_):\n",
    "        print(\"\\nTopic #%d:\" % topic_idx)\n",
    "        print(\" \".join([words[i]\n",
    "                        for i in topic.argsort()[:-n_top_words - 1:-1]]))\n",
    "        \n",
    "# Tweak the two parameters below\n",
    "number_topics = 5\n",
    "number_words = 10\n",
    "# Create and fit the LDA model\n",
    "lda = LDA(n_components=number_topics, n_jobs=-1)\n",
    "lda.fit(count_data)\n",
    "# Print the topics found by the LDA model\n",
    "print(\"Topics found via LDA:\")\n",
    "print_topics(lda, count_vectorizer, number_words)"
   ]
  },
  {
   "cell_type": "code",
   "execution_count": 616,
   "metadata": {},
   "outputs": [
    {
     "data": {
      "text/html": [
       "\n",
       "<link rel=\"stylesheet\" type=\"text/css\" href=\"https://cdn.rawgit.com/bmabey/pyLDAvis/files/ldavis.v1.0.0.css\">\n",
       "\n",
       "\n",
       "<div id=\"ldavis_el590019988574938329527208069\"></div>\n",
       "<script type=\"text/javascript\">\n",
       "\n",
       "var ldavis_el590019988574938329527208069_data = {\"mdsDat\": {\"x\": [0.0862673633035334, -0.13898129269460197, 0.08303802914105361, -0.015162049875034632, -0.015162049874950513], \"y\": [-0.07837114124107412, 0.004914568297091073, 0.0871451130924879, -0.006844270074252162, -0.006844270074252824], \"topics\": [1, 2, 3, 4, 5], \"cluster\": [1, 1, 1, 1, 1], \"Freq\": [34.110249749634505, 31.451862238820222, 28.812924453324186, 2.812481779110549, 2.8124817791105468]}, \"tinfo\": {\"Term\": [\"error\", \"android\", \"time\", \"running\", \"run\", \"javaniobufferoverflowexception\", \"use\", \"react\", \"native\", \"ios\", \"retrained\", \"accuracy\", \"improve\", \"graph\", \"demo\", \"camera\", \"models\", \"fly\", \"apps\", \"updated\", \"giving\", \"python\", \"results\", \"different\", \"model\", \"tensorflow\", \"giving\", \"results\", \"python\", \"different\", \"apps\", \"models\", \"updated\", \"fly\", \"android\", \"model\", \"tensorflow\", \"javaniobufferoverflowexception\", \"time\", \"running\", \"run\", \"use\", \"native\", \"react\", \"graph\", \"improve\", \"ios\", \"demo\", \"camera\", \"retrained\", \"accuracy\", \"error\", \"accuracy\", \"camera\", \"demo\", \"graph\", \"improve\", \"retrained\", \"ios\", \"native\", \"use\", \"react\", \"tensorflow\", \"javaniobufferoverflowexception\", \"time\", \"run\", \"running\", \"models\", \"apps\", \"updated\", \"fly\", \"different\", \"python\", \"results\", \"giving\", \"error\", \"model\", \"android\", \"error\", \"javaniobufferoverflowexception\", \"time\", \"running\", \"run\", \"android\", \"model\", \"tensorflow\", \"native\", \"use\", \"react\", \"ios\", \"improve\", \"graph\", \"demo\", \"camera\", \"retrained\", \"accuracy\", \"models\", \"updated\", \"fly\", \"apps\", \"python\", \"giving\", \"results\", \"different\", \"javaniobufferoverflowexception\", \"time\", \"running\", \"run\", \"react\", \"native\", \"use\", \"graph\", \"ios\", \"camera\", \"demo\", \"retrained\", \"improve\", \"accuracy\", \"updated\", \"models\", \"fly\", \"apps\", \"giving\", \"different\", \"python\", \"results\", \"error\", \"model\", \"android\", \"tensorflow\", \"javaniobufferoverflowexception\", \"time\", \"running\", \"run\", \"react\", \"native\", \"use\", \"graph\", \"ios\", \"camera\", \"demo\", \"retrained\", \"improve\", \"accuracy\", \"updated\", \"models\", \"fly\", \"apps\", \"giving\", \"different\", \"python\", \"results\", \"error\", \"model\", \"android\", \"tensorflow\"], \"Freq\": [1.0, 3.0, 1.0, 1.0, 1.0, 1.0, 1.0, 1.0, 1.0, 1.0, 1.0, 1.0, 1.0, 1.0, 1.0, 1.0, 1.0, 1.0, 1.0, 1.0, 1.0, 1.0, 1.0, 1.0, 1.0, 4.0, 0.8096020781222499, 0.8096020781222499, 0.8096020781222499, 0.8096020781222499, 0.8095962620961075, 0.8095962620961075, 0.8095962620961075, 0.8095962620961075, 1.4846143274296535, 0.8093992683877729, 1.4847394470956077, 0.13494206971233105, 0.13494206971233105, 0.13494206971233105, 0.13494206971233105, 0.1349453457130395, 0.1349453457130395, 0.1349453457130395, 0.13494215612536453, 0.13494215612536453, 0.13494215612536453, 0.13494215612536453, 0.13494215612536453, 0.13494215612536453, 0.13494215612536453, 0.13494409721596362, 0.7899463943751736, 0.7899463943751736, 0.7899463943751736, 0.7899463943751736, 0.7899463943751736, 0.7899463943751736, 0.7899463943751736, 0.7899174476088897, 0.7899174476088897, 0.7899174476088897, 1.448298762770772, 0.13166494944068657, 0.13166494944068657, 0.13166494944068657, 0.13166494944068657, 0.1316664394386857, 0.1316664394386857, 0.1316664394386857, 0.1316664394386857, 0.13166578979697094, 0.13166578979697094, 0.13166578979697094, 0.13166578979697094, 0.13166692014015718, 0.13166856524467577, 0.13167033966141914, 1.408686278203718, 0.7683723118965635, 0.7683723118965635, 0.7683723118965635, 0.7683723118965635, 1.4083966798003829, 0.7685713933730344, 1.4082445561455685, 0.12807259528890458, 0.12807259528890458, 0.12807259528890458, 0.12806915874022626, 0.12806915874022626, 0.12806915874022626, 0.12806915874022626, 0.12806915874022626, 0.12806915874022626, 0.12806915874022626, 0.12807064292398795, 0.12807064292398795, 0.12807064292398795, 0.12807064292398795, 0.12807004483587506, 0.12807004483587506, 0.12807004483587506, 0.12807004483587506, 0.03894044880151076, 0.03894044880151076, 0.03894044880151076, 0.03894044880151076, 0.038943931206336116, 0.038943931206336116, 0.038943931206336116, 0.038940633486154924, 0.038940633486154924, 0.038940633486154924, 0.038940633486154924, 0.038940633486154924, 0.038940633486154924, 0.038940633486154924, 0.038941953155712535, 0.038941953155712535, 0.038941953155712535, 0.038941953155712535, 0.038941301014648114, 0.038941301014648114, 0.038941301014648114, 0.038941301014648114, 0.038942372070621234, 0.03894417270682283, 0.03894588787913466, 0.03894996791364053, 0.03894044880153209, 0.03894044880153209, 0.03894044880153209, 0.03894044880153209, 0.03894393120635702, 0.03894393120635702, 0.03894393120635702, 0.03894063348610172, 0.03894063348610172, 0.03894063348610172, 0.03894063348610172, 0.03894063348610172, 0.03894063348610172, 0.03894063348610172, 0.03894195315573387, 0.03894195315573387, 0.03894195315573387, 0.03894195315573387, 0.038941301014669444, 0.038941301014669444, 0.038941301014669444, 0.038941301014669444, 0.038942372070642564, 0.038944172706844166, 0.038945887879155996, 0.03894996791362926], \"Total\": [1.0, 3.0, 1.0, 1.0, 1.0, 1.0, 1.0, 1.0, 1.0, 1.0, 1.0, 1.0, 1.0, 1.0, 1.0, 1.0, 1.0, 1.0, 1.0, 1.0, 1.0, 1.0, 1.0, 1.0, 1.0, 4.0, 1.1472205147844137, 1.1472205147844137, 1.1472205147844137, 1.1472205147844137, 1.1472172507702274, 1.1472172507702274, 1.1472172507702274, 1.1472172507702274, 3.102573122649746, 1.7875275724191502, 4.419182701839218, 1.1128602286526241, 1.1128602286526241, 1.1128602286526241, 1.1128602286526241, 1.1308232510235272, 1.1308232510235272, 1.1308232510235272, 1.1308389762130209, 1.1308389762130209, 1.1308389762130209, 1.1308389762130209, 1.1308389762130209, 1.1308389762130209, 1.1308389762130209, 1.7531820397011026, 1.1308389762130209, 1.1308389762130209, 1.1308389762130209, 1.1308389762130209, 1.1308389762130209, 1.1308389762130209, 1.1308389762130209, 1.1308232510235272, 1.1308232510235272, 1.1308232510235272, 4.419182701839218, 1.1128602286526241, 1.1128602286526241, 1.1128602286526241, 1.1128602286526241, 1.1472172507702274, 1.1472172507702274, 1.1472172507702274, 1.1472172507702274, 1.1472205147844137, 1.1472205147844137, 1.1472205147844137, 1.1472205147844137, 1.7531820397011026, 1.7875275724191502, 3.102573122649746, 1.7531820397011026, 1.1128602286526241, 1.1128602286526241, 1.1128602286526241, 1.1128602286526241, 3.102573122649746, 1.7875275724191502, 4.419182701839218, 1.1308232510235272, 1.1308232510235272, 1.1308232510235272, 1.1308389762130209, 1.1308389762130209, 1.1308389762130209, 1.1308389762130209, 1.1308389762130209, 1.1308389762130209, 1.1308389762130209, 1.1472172507702274, 1.1472172507702274, 1.1472172507702274, 1.1472172507702274, 1.1472205147844137, 1.1472205147844137, 1.1472205147844137, 1.1472205147844137, 1.1128602286526241, 1.1128602286526241, 1.1128602286526241, 1.1128602286526241, 1.1308232510235272, 1.1308232510235272, 1.1308232510235272, 1.1308389762130209, 1.1308389762130209, 1.1308389762130209, 1.1308389762130209, 1.1308389762130209, 1.1308389762130209, 1.1308389762130209, 1.1472172507702274, 1.1472172507702274, 1.1472172507702274, 1.1472172507702274, 1.1472205147844137, 1.1472205147844137, 1.1472205147844137, 1.1472205147844137, 1.7531820397011026, 1.7875275724191502, 3.102573122649746, 4.419182701839218, 1.1128602286526241, 1.1128602286526241, 1.1128602286526241, 1.1128602286526241, 1.1308232510235272, 1.1308232510235272, 1.1308232510235272, 1.1308389762130209, 1.1308389762130209, 1.1308389762130209, 1.1308389762130209, 1.1308389762130209, 1.1308389762130209, 1.1308389762130209, 1.1472172507702274, 1.1472172507702274, 1.1472172507702274, 1.1472172507702274, 1.1472205147844137, 1.1472205147844137, 1.1472205147844137, 1.1472205147844137, 1.7531820397011026, 1.7875275724191502, 3.102573122649746, 4.419182701839218], \"Category\": [\"Default\", \"Default\", \"Default\", \"Default\", \"Default\", \"Default\", \"Default\", \"Default\", \"Default\", \"Default\", \"Default\", \"Default\", \"Default\", \"Default\", \"Default\", \"Default\", \"Default\", \"Default\", \"Default\", \"Default\", \"Default\", \"Default\", \"Default\", \"Default\", \"Default\", \"Default\", \"Topic1\", \"Topic1\", \"Topic1\", \"Topic1\", \"Topic1\", \"Topic1\", \"Topic1\", \"Topic1\", \"Topic1\", \"Topic1\", \"Topic1\", \"Topic1\", \"Topic1\", \"Topic1\", \"Topic1\", \"Topic1\", \"Topic1\", \"Topic1\", \"Topic1\", \"Topic1\", \"Topic1\", \"Topic1\", \"Topic1\", \"Topic1\", \"Topic1\", \"Topic1\", \"Topic2\", \"Topic2\", \"Topic2\", \"Topic2\", \"Topic2\", \"Topic2\", \"Topic2\", \"Topic2\", \"Topic2\", \"Topic2\", \"Topic2\", \"Topic2\", \"Topic2\", \"Topic2\", \"Topic2\", \"Topic2\", \"Topic2\", \"Topic2\", \"Topic2\", \"Topic2\", \"Topic2\", \"Topic2\", \"Topic2\", \"Topic2\", \"Topic2\", \"Topic2\", \"Topic3\", \"Topic3\", \"Topic3\", \"Topic3\", \"Topic3\", \"Topic3\", \"Topic3\", \"Topic3\", \"Topic3\", \"Topic3\", \"Topic3\", \"Topic3\", \"Topic3\", \"Topic3\", \"Topic3\", \"Topic3\", \"Topic3\", \"Topic3\", \"Topic3\", \"Topic3\", \"Topic3\", \"Topic3\", \"Topic3\", \"Topic3\", \"Topic3\", \"Topic3\", \"Topic4\", \"Topic4\", \"Topic4\", \"Topic4\", \"Topic4\", \"Topic4\", \"Topic4\", \"Topic4\", \"Topic4\", \"Topic4\", \"Topic4\", \"Topic4\", \"Topic4\", \"Topic4\", \"Topic4\", \"Topic4\", \"Topic4\", \"Topic4\", \"Topic4\", \"Topic4\", \"Topic4\", \"Topic4\", \"Topic4\", \"Topic4\", \"Topic4\", \"Topic4\", \"Topic5\", \"Topic5\", \"Topic5\", \"Topic5\", \"Topic5\", \"Topic5\", \"Topic5\", \"Topic5\", \"Topic5\", \"Topic5\", \"Topic5\", \"Topic5\", \"Topic5\", \"Topic5\", \"Topic5\", \"Topic5\", \"Topic5\", \"Topic5\", \"Topic5\", \"Topic5\", \"Topic5\", \"Topic5\", \"Topic5\", \"Topic5\", \"Topic5\", \"Topic5\"], \"logprob\": [26.0, 25.0, 24.0, 23.0, 22.0, 21.0, 20.0, 19.0, 18.0, 17.0, 16.0, 15.0, 14.0, 13.0, 12.0, 11.0, 10.0, 9.0, 8.0, 7.0, 6.0, 5.0, 4.0, 3.0, 2.0, 1.0, -2.7192, -2.7192, -2.7192, -2.7192, -2.7192, -2.7192, -2.7192, -2.7192, -2.1128, -2.7194, -2.1127, -4.5109, -4.5109, -4.5109, -4.5109, -4.5108, -4.5108, -4.5108, -4.5109, -4.5109, -4.5109, -4.5109, -4.5109, -4.5109, -4.5109, -4.5108, -2.6626, -2.6626, -2.6626, -2.6626, -2.6626, -2.6626, -2.6626, -2.6626, -2.6626, -2.6626, -2.0564, -4.4543, -4.4543, -4.4543, -4.4543, -4.4543, -4.4543, -4.4543, -4.4543, -4.4543, -4.4543, -4.4543, -4.4543, -4.4543, -4.4543, -4.4543, -1.9965, -2.6027, -2.6027, -2.6027, -2.6027, -1.9967, -2.6024, -1.9968, -4.3943, -4.3943, -4.3943, -4.3944, -4.3944, -4.3944, -4.3944, -4.3944, -4.3944, -4.3944, -4.3943, -4.3943, -4.3943, -4.3943, -4.3944, -4.3944, -4.3944, -4.3944, -3.2581, -3.2581, -3.2581, -3.2581, -3.258, -3.258, -3.258, -3.2581, -3.2581, -3.2581, -3.2581, -3.2581, -3.2581, -3.2581, -3.2581, -3.2581, -3.2581, -3.2581, -3.2581, -3.2581, -3.2581, -3.2581, -3.2581, -3.258, -3.258, -3.2579, -3.2581, -3.2581, -3.2581, -3.2581, -3.258, -3.258, -3.258, -3.2581, -3.2581, -3.2581, -3.2581, -3.2581, -3.2581, -3.2581, -3.2581, -3.2581, -3.2581, -3.2581, -3.2581, -3.2581, -3.2581, -3.2581, -3.2581, -3.258, -3.258, -3.2579], \"loglift\": [26.0, 25.0, 24.0, 23.0, 22.0, 21.0, 20.0, 19.0, 18.0, 17.0, 16.0, 15.0, 14.0, 13.0, 12.0, 11.0, 10.0, 9.0, 8.0, 7.0, 6.0, 5.0, 4.0, 3.0, 2.0, 1.0, 0.727, 0.727, 0.727, 0.727, 0.727, 0.727, 0.727, 0.727, 0.3385, 0.2833, -0.0151, -1.0343, -1.0343, -1.0343, -1.0343, -1.0503, -1.0503, -1.0503, -1.0503, -1.0503, -1.0503, -1.0503, -1.0503, -1.0503, -1.0503, -1.4888, 0.798, 0.798, 0.798, 0.798, 0.798, 0.798, 0.798, 0.7979, 0.7979, 0.7979, 0.0411, -0.9777, -0.9777, -0.9777, -0.9777, -1.0081, -1.0081, -1.0081, -1.0081, -1.0081, -1.0081, -1.0081, -1.0081, -1.4322, -1.4516, -2.003, 1.0256, 0.8739, 0.8739, 0.8739, 0.8739, 0.4546, 0.4003, 0.1007, -0.9338, -0.9338, -0.9338, -0.9338, -0.9338, -0.9338, -0.9338, -0.9338, -0.9338, -0.9338, -0.9482, -0.9482, -0.9482, -0.9482, -0.9482, -0.9482, -0.9482, -0.9482, 0.2184, 0.2184, 0.2184, 0.2184, 0.2025, 0.2025, 0.2025, 0.2024, 0.2024, 0.2024, 0.2024, 0.2024, 0.2024, 0.2024, 0.1881, 0.1881, 0.1881, 0.1881, 0.1881, 0.1881, 0.1881, 0.1881, -0.236, -0.2554, -0.8067, -1.1603, 0.2184, 0.2184, 0.2184, 0.2184, 0.2025, 0.2025, 0.2025, 0.2024, 0.2024, 0.2024, 0.2024, 0.2024, 0.2024, 0.2024, 0.1881, 0.1881, 0.1881, 0.1881, 0.1881, 0.1881, 0.1881, 0.1881, -0.236, -0.2554, -0.8067, -1.1603]}, \"token.table\": {\"Topic\": [2, 1, 3, 1, 2, 2, 1, 3, 1, 1, 2, 2, 2, 3, 1, 3, 1, 2, 1, 2, 1, 2, 3, 3, 1, 2, 3, 3, 1, 2], \"Freq\": [0.8842991982367132, 0.322313112525758, 0.322313112525758, 0.8716744795535566, 0.8842991982367132, 0.8842991982367132, 0.8716719995091097, 0.570391423910827, 0.8716744795535566, 0.8716719995091097, 0.8842991982367132, 0.8842991982367132, 0.8842991982367132, 0.8985854415973984, 0.5594319301305378, 0.5594319301305378, 0.8716744795535566, 0.8843114952711515, 0.8716719995091097, 0.8843114952711515, 0.8716719995091097, 0.8842991982367132, 0.8985854415973984, 0.8985854415973984, 0.22628618626331298, 0.22628618626331298, 0.22628618626331298, 0.8985854415973984, 0.8716744795535566, 0.8843114952711515], \"Term\": [\"accuracy\", \"android\", \"android\", \"apps\", \"camera\", \"demo\", \"different\", \"error\", \"fly\", \"giving\", \"graph\", \"improve\", \"ios\", \"javaniobufferoverflowexception\", \"model\", \"model\", \"models\", \"native\", \"python\", \"react\", \"results\", \"retrained\", \"run\", \"running\", \"tensorflow\", \"tensorflow\", \"tensorflow\", \"time\", \"updated\", \"use\"]}, \"R\": 26, \"lambda.step\": 0.01, \"plot.opts\": {\"xlab\": \"PC1\", \"ylab\": \"PC2\"}, \"topic.order\": [2, 4, 3, 1, 5]};\n",
       "\n",
       "function LDAvis_load_lib(url, callback){\n",
       "  var s = document.createElement('script');\n",
       "  s.src = url;\n",
       "  s.async = true;\n",
       "  s.onreadystatechange = s.onload = callback;\n",
       "  s.onerror = function(){console.warn(\"failed to load library \" + url);};\n",
       "  document.getElementsByTagName(\"head\")[0].appendChild(s);\n",
       "}\n",
       "\n",
       "if(typeof(LDAvis) !== \"undefined\"){\n",
       "   // already loaded: just create the visualization\n",
       "   !function(LDAvis){\n",
       "       new LDAvis(\"#\" + \"ldavis_el590019988574938329527208069\", ldavis_el590019988574938329527208069_data);\n",
       "   }(LDAvis);\n",
       "}else if(typeof define === \"function\" && define.amd){\n",
       "   // require.js is available: use it to load d3/LDAvis\n",
       "   require.config({paths: {d3: \"https://cdnjs.cloudflare.com/ajax/libs/d3/3.5.5/d3.min\"}});\n",
       "   require([\"d3\"], function(d3){\n",
       "      window.d3 = d3;\n",
       "      LDAvis_load_lib(\"https://cdn.rawgit.com/bmabey/pyLDAvis/files/ldavis.v1.0.0.js\", function(){\n",
       "        new LDAvis(\"#\" + \"ldavis_el590019988574938329527208069\", ldavis_el590019988574938329527208069_data);\n",
       "      });\n",
       "    });\n",
       "}else{\n",
       "    // require.js not available: dynamically load d3 & LDAvis\n",
       "    LDAvis_load_lib(\"https://cdnjs.cloudflare.com/ajax/libs/d3/3.5.5/d3.min.js\", function(){\n",
       "         LDAvis_load_lib(\"https://cdn.rawgit.com/bmabey/pyLDAvis/files/ldavis.v1.0.0.js\", function(){\n",
       "                 new LDAvis(\"#\" + \"ldavis_el590019988574938329527208069\", ldavis_el590019988574938329527208069_data);\n",
       "            })\n",
       "         });\n",
       "}\n",
       "</script>"
      ],
      "text/plain": [
       "<IPython.core.display.HTML object>"
      ]
     },
     "execution_count": 616,
     "metadata": {},
     "output_type": "execute_result"
    }
   ],
   "source": [
    "import pyLDAvis\n",
    "import pyLDAvis.sklearn\n",
    "\n",
    "#enable the interactive display\n",
    "pyLDAvis.enable_notebook()\n",
    "\n",
    "#this is by far the easiest way to load a pre-trained sklearn lda model onto pyLDAvis\n",
    "#there are other means of using this visible on pyLDAvis' main repo\n",
    "\n",
    "display_data = pyLDAvis.sklearn.prepare(lda, #our pre-trained LDA model\n",
    "                         count_data, #this gives us our document-term matrix\n",
    "                        count_vectorizer) #the vectoriser object\n",
    "                        \n",
    "pyLDAvis.display(display_data) "
   ]
  },
  {
   "cell_type": "code",
   "execution_count": null,
   "metadata": {},
   "outputs": [],
   "source": [
    "l=len(df_2017_mob)\n",
    "tt=[]\n",
    "for i in range (l):\n",
    "    if \"api\" in df_2017_mob['Title'][i]:\n",
    "        tt.append(2)\n",
    "    else:\n",
    "        tt.append(0)\n",
    "df_2017_mob[\"tag_api\"]=tt\n",
    "\n",
    "df_2017_mob_api=df_2017_mob[df_2017_mob[\"tag_api\"]==2]\n",
    "\n",
    "# Load the regular expression library\n",
    "import re\n",
    "# Remove punctuation\n",
    "df_2017_mob_tens['Title'] = df_2017_mob_tens['Title'].map(lambda x: re.sub('[,\\.!?]', '', x))\n",
    "# Convert the titles to lowercase\n",
    "df_2017_mob_tens['Title'] = df_2017_mob_tens['Title'].map(lambda x: x.lower())\n",
    "# Print out the first rows of papers\n",
    "df_2017_mob_tens['Title'].head()\n",
    "\n",
    "# Import the wordcloud library\n",
    "from wordcloud import WordCloud\n",
    "# Join the different processed titles together.\n",
    "long_string = ','.join(list(df_2017_mob_tens['Title'].values))\n",
    "# Create a WordCloud object\n",
    "wordcloud = WordCloud(background_color=\"white\", max_words=5000, contour_width=3, contour_color='steelblue')\n",
    "# Generate a word cloud\n",
    "wordcloud.generate(long_string)\n",
    "# Visualize the word cloud\n",
    "wordcloud.to_image()\n",
    "\n",
    "# Load the library with the CountVectorizer method\n",
    "from sklearn.feature_extraction.text import CountVectorizer\n",
    "import numpy as np\n",
    "import matplotlib.pyplot as plt\n",
    "import seaborn as sns\n",
    "sns.set_style('whitegrid')\n",
    "%matplotlib inline\n",
    "# Helper function\n",
    "def plot_10_most_common_words(count_data, count_vectorizer):\n",
    "    import matplotlib.pyplot as plt\n",
    "    words = count_vectorizer.get_feature_names()\n",
    "    total_counts = np.zeros(len(words))\n",
    "    for t in count_data:\n",
    "        total_counts+=t.toarray()[0]\n",
    "    \n",
    "    count_dict = (zip(words, total_counts))\n",
    "    count_dict = sorted(count_dict, key=lambda x:x[1], reverse=True)[0:20]\n",
    "    words = [w[0] for w in count_dict]\n",
    "    counts = [w[1] for w in count_dict]\n",
    "    x_pos = np.arange(len(words)) \n",
    "    \n",
    "    plt.figure(2, figsize=(15, 15/1.6180))\n",
    "    plt.subplot(title='10 most common words')\n",
    "    sns.set_context(\"notebook\", font_scale=1.25, rc={\"lines.linewidth\": 2.5})\n",
    "    sns.barplot(x_pos, counts, palette='husl')\n",
    "    plt.xticks(x_pos, words, rotation=90) \n",
    "    plt.xlabel('words')\n",
    "    plt.ylabel('counts')\n",
    "    plt.show()\n",
    "# Initialise the count vectorizer with the English stop words\n",
    "count_vectorizer = CountVectorizer(stop_words='english')\n",
    "# Fit and transform the processed titles\n",
    "count_data = count_vectorizer.fit_transform(df_2017_mob_tens['Title'])\n",
    "# Visualise the 10 most common words\n",
    "plot_10_most_common_words(count_data, count_vectorizer)\n",
    "\n",
    "import warnings\n",
    "warnings.simplefilter(\"ignore\", DeprecationWarning)\n",
    "# Load the LDA model from sk-learn\n",
    "from sklearn.decomposition import LatentDirichletAllocation as LDA\n",
    " \n",
    "# Helper function\n",
    "def print_topics(model, count_vectorizer, n_top_words):\n",
    "    words = count_vectorizer.get_feature_names()\n",
    "    for topic_idx, topic in enumerate(model.components_):\n",
    "        print(\"\\nTopic #%d:\" % topic_idx)\n",
    "        print(\" \".join([words[i]\n",
    "                        for i in topic.argsort()[:-n_top_words - 1:-1]]))\n",
    "        \n",
    "# Tweak the two parameters below\n",
    "number_topics = 5\n",
    "number_words = 10\n",
    "# Create and fit the LDA model\n",
    "lda = LDA(n_components=number_topics, n_jobs=-1)\n",
    "lda.fit(count_data)\n",
    "# Print the topics found by the LDA model\n",
    "print(\"Topics found via LDA:\")\n",
    "print_topics(lda, count_vectorizer, number_words)\n",
    "\n",
    "import pyLDAvis\n",
    "import pyLDAvis.sklearn\n",
    "\n",
    "#enable the interactive display\n",
    "pyLDAvis.enable_notebook()\n",
    "\n",
    "#this is by far the easiest way to load a pre-trained sklearn lda model onto pyLDAvis\n",
    "#there are other means of using this visible on pyLDAvis' main repo\n",
    "\n",
    "display_data = pyLDAvis.sklearn.prepare(lda, #our pre-trained LDA model\n",
    "                         count_data, #this gives us our document-term matrix\n",
    "                        count_vectorizer) #the vectoriser object\n",
    "                        \n",
    "pyLDAvis.display(display_data) "
   ]
  }
 ],
 "metadata": {
  "kernelspec": {
   "display_name": "Python 3",
   "language": "python",
   "name": "python3"
  },
  "language_info": {
   "codemirror_mode": {
    "name": "ipython",
    "version": 3
   },
   "file_extension": ".py",
   "mimetype": "text/x-python",
   "name": "python",
   "nbconvert_exporter": "python",
   "pygments_lexer": "ipython3",
   "version": "3.7.7"
  }
 },
 "nbformat": 4,
 "nbformat_minor": 4
}
